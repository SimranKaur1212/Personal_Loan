{
  "cells": [
    {
      "cell_type": "code",
      "execution_count": null,
      "metadata": {
        "id": "bme1UtNZEnM0"
      },
      "outputs": [],
      "source": [
        "import numpy as np\n",
        "import pandas as pd\n",
        "import matplotlib.pyplot as plt\n",
        "import seaborn as sns"
      ]
    },
    {
      "cell_type": "code",
      "execution_count": null,
      "metadata": {
        "id": "rvUyguyGGpWl"
      },
      "outputs": [],
      "source": [
        "data=pd.read_csv('/content/Bank_Personal_Loan_Modelling.csv')"
      ]
    },
    {
      "cell_type": "code",
      "execution_count": null,
      "metadata": {
        "colab": {
          "base_uri": "https://localhost:8080/",
          "height": 288
        },
        "id": "y3akEKHdGvLr",
        "outputId": "7bc7759e-3a16-4f75-aecf-6dc768daf19b"
      },
      "outputs": [
        {
          "output_type": "execute_result",
          "data": {
            "text/plain": [
              "   ID  Age  Experience  Income  ZIP Code  Family  CCAvg  Education  Mortgage  \\\n",
              "0   1   25           1      49     91107       4    1.6          1         0   \n",
              "1   2   45          19      34     90089       3    1.5          1         0   \n",
              "2   3   39          15      11     94720       1    1.0          1         0   \n",
              "3   4   35           9     100     94112       1    2.7          2         0   \n",
              "4   5   35           8      45     91330       4    1.0          2         0   \n",
              "\n",
              "   Personal Loan  Securities Account  CD Account  Online  CreditCard  \n",
              "0              0                   1           0       0           0  \n",
              "1              0                   1           0       0           0  \n",
              "2              0                   0           0       0           0  \n",
              "3              0                   0           0       0           0  \n",
              "4              0                   0           0       0           1  "
            ],
            "text/html": [
              "\n",
              "  <div id=\"df-8a153fdb-7e09-41fe-bc22-9b77dcfe8cb4\">\n",
              "    <div class=\"colab-df-container\">\n",
              "      <div>\n",
              "<style scoped>\n",
              "    .dataframe tbody tr th:only-of-type {\n",
              "        vertical-align: middle;\n",
              "    }\n",
              "\n",
              "    .dataframe tbody tr th {\n",
              "        vertical-align: top;\n",
              "    }\n",
              "\n",
              "    .dataframe thead th {\n",
              "        text-align: right;\n",
              "    }\n",
              "</style>\n",
              "<table border=\"1\" class=\"dataframe\">\n",
              "  <thead>\n",
              "    <tr style=\"text-align: right;\">\n",
              "      <th></th>\n",
              "      <th>ID</th>\n",
              "      <th>Age</th>\n",
              "      <th>Experience</th>\n",
              "      <th>Income</th>\n",
              "      <th>ZIP Code</th>\n",
              "      <th>Family</th>\n",
              "      <th>CCAvg</th>\n",
              "      <th>Education</th>\n",
              "      <th>Mortgage</th>\n",
              "      <th>Personal Loan</th>\n",
              "      <th>Securities Account</th>\n",
              "      <th>CD Account</th>\n",
              "      <th>Online</th>\n",
              "      <th>CreditCard</th>\n",
              "    </tr>\n",
              "  </thead>\n",
              "  <tbody>\n",
              "    <tr>\n",
              "      <th>0</th>\n",
              "      <td>1</td>\n",
              "      <td>25</td>\n",
              "      <td>1</td>\n",
              "      <td>49</td>\n",
              "      <td>91107</td>\n",
              "      <td>4</td>\n",
              "      <td>1.6</td>\n",
              "      <td>1</td>\n",
              "      <td>0</td>\n",
              "      <td>0</td>\n",
              "      <td>1</td>\n",
              "      <td>0</td>\n",
              "      <td>0</td>\n",
              "      <td>0</td>\n",
              "    </tr>\n",
              "    <tr>\n",
              "      <th>1</th>\n",
              "      <td>2</td>\n",
              "      <td>45</td>\n",
              "      <td>19</td>\n",
              "      <td>34</td>\n",
              "      <td>90089</td>\n",
              "      <td>3</td>\n",
              "      <td>1.5</td>\n",
              "      <td>1</td>\n",
              "      <td>0</td>\n",
              "      <td>0</td>\n",
              "      <td>1</td>\n",
              "      <td>0</td>\n",
              "      <td>0</td>\n",
              "      <td>0</td>\n",
              "    </tr>\n",
              "    <tr>\n",
              "      <th>2</th>\n",
              "      <td>3</td>\n",
              "      <td>39</td>\n",
              "      <td>15</td>\n",
              "      <td>11</td>\n",
              "      <td>94720</td>\n",
              "      <td>1</td>\n",
              "      <td>1.0</td>\n",
              "      <td>1</td>\n",
              "      <td>0</td>\n",
              "      <td>0</td>\n",
              "      <td>0</td>\n",
              "      <td>0</td>\n",
              "      <td>0</td>\n",
              "      <td>0</td>\n",
              "    </tr>\n",
              "    <tr>\n",
              "      <th>3</th>\n",
              "      <td>4</td>\n",
              "      <td>35</td>\n",
              "      <td>9</td>\n",
              "      <td>100</td>\n",
              "      <td>94112</td>\n",
              "      <td>1</td>\n",
              "      <td>2.7</td>\n",
              "      <td>2</td>\n",
              "      <td>0</td>\n",
              "      <td>0</td>\n",
              "      <td>0</td>\n",
              "      <td>0</td>\n",
              "      <td>0</td>\n",
              "      <td>0</td>\n",
              "    </tr>\n",
              "    <tr>\n",
              "      <th>4</th>\n",
              "      <td>5</td>\n",
              "      <td>35</td>\n",
              "      <td>8</td>\n",
              "      <td>45</td>\n",
              "      <td>91330</td>\n",
              "      <td>4</td>\n",
              "      <td>1.0</td>\n",
              "      <td>2</td>\n",
              "      <td>0</td>\n",
              "      <td>0</td>\n",
              "      <td>0</td>\n",
              "      <td>0</td>\n",
              "      <td>0</td>\n",
              "      <td>1</td>\n",
              "    </tr>\n",
              "  </tbody>\n",
              "</table>\n",
              "</div>\n",
              "      <button class=\"colab-df-convert\" onclick=\"convertToInteractive('df-8a153fdb-7e09-41fe-bc22-9b77dcfe8cb4')\"\n",
              "              title=\"Convert this dataframe to an interactive table.\"\n",
              "              style=\"display:none;\">\n",
              "        \n",
              "  <svg xmlns=\"http://www.w3.org/2000/svg\" height=\"24px\"viewBox=\"0 0 24 24\"\n",
              "       width=\"24px\">\n",
              "    <path d=\"M0 0h24v24H0V0z\" fill=\"none\"/>\n",
              "    <path d=\"M18.56 5.44l.94 2.06.94-2.06 2.06-.94-2.06-.94-.94-2.06-.94 2.06-2.06.94zm-11 1L8.5 8.5l.94-2.06 2.06-.94-2.06-.94L8.5 2.5l-.94 2.06-2.06.94zm10 10l.94 2.06.94-2.06 2.06-.94-2.06-.94-.94-2.06-.94 2.06-2.06.94z\"/><path d=\"M17.41 7.96l-1.37-1.37c-.4-.4-.92-.59-1.43-.59-.52 0-1.04.2-1.43.59L10.3 9.45l-7.72 7.72c-.78.78-.78 2.05 0 2.83L4 21.41c.39.39.9.59 1.41.59.51 0 1.02-.2 1.41-.59l7.78-7.78 2.81-2.81c.8-.78.8-2.07 0-2.86zM5.41 20L4 18.59l7.72-7.72 1.47 1.35L5.41 20z\"/>\n",
              "  </svg>\n",
              "      </button>\n",
              "      \n",
              "  <style>\n",
              "    .colab-df-container {\n",
              "      display:flex;\n",
              "      flex-wrap:wrap;\n",
              "      gap: 12px;\n",
              "    }\n",
              "\n",
              "    .colab-df-convert {\n",
              "      background-color: #E8F0FE;\n",
              "      border: none;\n",
              "      border-radius: 50%;\n",
              "      cursor: pointer;\n",
              "      display: none;\n",
              "      fill: #1967D2;\n",
              "      height: 32px;\n",
              "      padding: 0 0 0 0;\n",
              "      width: 32px;\n",
              "    }\n",
              "\n",
              "    .colab-df-convert:hover {\n",
              "      background-color: #E2EBFA;\n",
              "      box-shadow: 0px 1px 2px rgba(60, 64, 67, 0.3), 0px 1px 3px 1px rgba(60, 64, 67, 0.15);\n",
              "      fill: #174EA6;\n",
              "    }\n",
              "\n",
              "    [theme=dark] .colab-df-convert {\n",
              "      background-color: #3B4455;\n",
              "      fill: #D2E3FC;\n",
              "    }\n",
              "\n",
              "    [theme=dark] .colab-df-convert:hover {\n",
              "      background-color: #434B5C;\n",
              "      box-shadow: 0px 1px 3px 1px rgba(0, 0, 0, 0.15);\n",
              "      filter: drop-shadow(0px 1px 2px rgba(0, 0, 0, 0.3));\n",
              "      fill: #FFFFFF;\n",
              "    }\n",
              "  </style>\n",
              "\n",
              "      <script>\n",
              "        const buttonEl =\n",
              "          document.querySelector('#df-8a153fdb-7e09-41fe-bc22-9b77dcfe8cb4 button.colab-df-convert');\n",
              "        buttonEl.style.display =\n",
              "          google.colab.kernel.accessAllowed ? 'block' : 'none';\n",
              "\n",
              "        async function convertToInteractive(key) {\n",
              "          const element = document.querySelector('#df-8a153fdb-7e09-41fe-bc22-9b77dcfe8cb4');\n",
              "          const dataTable =\n",
              "            await google.colab.kernel.invokeFunction('convertToInteractive',\n",
              "                                                     [key], {});\n",
              "          if (!dataTable) return;\n",
              "\n",
              "          const docLinkHtml = 'Like what you see? Visit the ' +\n",
              "            '<a target=\"_blank\" href=https://colab.research.google.com/notebooks/data_table.ipynb>data table notebook</a>'\n",
              "            + ' to learn more about interactive tables.';\n",
              "          element.innerHTML = '';\n",
              "          dataTable['output_type'] = 'display_data';\n",
              "          await google.colab.output.renderOutput(dataTable, element);\n",
              "          const docLink = document.createElement('div');\n",
              "          docLink.innerHTML = docLinkHtml;\n",
              "          element.appendChild(docLink);\n",
              "        }\n",
              "      </script>\n",
              "    </div>\n",
              "  </div>\n",
              "  "
            ]
          },
          "metadata": {},
          "execution_count": 92
        }
      ],
      "source": [
        "\n",
        "data.head()"
      ]
    },
    {
      "cell_type": "code",
      "execution_count": null,
      "metadata": {
        "colab": {
          "base_uri": "https://localhost:8080/",
          "height": 288
        },
        "id": "I3o2WOLwHIMP",
        "outputId": "9380fdb1-d6ad-40db-f43d-8aaf71d77c32"
      },
      "outputs": [
        {
          "output_type": "execute_result",
          "data": {
            "text/plain": [
              "        ID  Age  Experience  Income  ZIP Code  Family  CCAvg  Education  \\\n",
              "4995  4996   29           3      40     92697       1    1.9          3   \n",
              "4996  4997   30           4      15     92037       4    0.4          1   \n",
              "4997  4998   63          39      24     93023       2    0.3          3   \n",
              "4998  4999   65          40      49     90034       3    0.5          2   \n",
              "4999  5000   28           4      83     92612       3    0.8          1   \n",
              "\n",
              "      Mortgage  Personal Loan  Securities Account  CD Account  Online  \\\n",
              "4995         0              0                   0           0       1   \n",
              "4996        85              0                   0           0       1   \n",
              "4997         0              0                   0           0       0   \n",
              "4998         0              0                   0           0       1   \n",
              "4999         0              0                   0           0       1   \n",
              "\n",
              "      CreditCard  \n",
              "4995           0  \n",
              "4996           0  \n",
              "4997           0  \n",
              "4998           0  \n",
              "4999           1  "
            ],
            "text/html": [
              "\n",
              "  <div id=\"df-20e08dde-e3df-407e-acb1-96a099fb86ea\">\n",
              "    <div class=\"colab-df-container\">\n",
              "      <div>\n",
              "<style scoped>\n",
              "    .dataframe tbody tr th:only-of-type {\n",
              "        vertical-align: middle;\n",
              "    }\n",
              "\n",
              "    .dataframe tbody tr th {\n",
              "        vertical-align: top;\n",
              "    }\n",
              "\n",
              "    .dataframe thead th {\n",
              "        text-align: right;\n",
              "    }\n",
              "</style>\n",
              "<table border=\"1\" class=\"dataframe\">\n",
              "  <thead>\n",
              "    <tr style=\"text-align: right;\">\n",
              "      <th></th>\n",
              "      <th>ID</th>\n",
              "      <th>Age</th>\n",
              "      <th>Experience</th>\n",
              "      <th>Income</th>\n",
              "      <th>ZIP Code</th>\n",
              "      <th>Family</th>\n",
              "      <th>CCAvg</th>\n",
              "      <th>Education</th>\n",
              "      <th>Mortgage</th>\n",
              "      <th>Personal Loan</th>\n",
              "      <th>Securities Account</th>\n",
              "      <th>CD Account</th>\n",
              "      <th>Online</th>\n",
              "      <th>CreditCard</th>\n",
              "    </tr>\n",
              "  </thead>\n",
              "  <tbody>\n",
              "    <tr>\n",
              "      <th>4995</th>\n",
              "      <td>4996</td>\n",
              "      <td>29</td>\n",
              "      <td>3</td>\n",
              "      <td>40</td>\n",
              "      <td>92697</td>\n",
              "      <td>1</td>\n",
              "      <td>1.9</td>\n",
              "      <td>3</td>\n",
              "      <td>0</td>\n",
              "      <td>0</td>\n",
              "      <td>0</td>\n",
              "      <td>0</td>\n",
              "      <td>1</td>\n",
              "      <td>0</td>\n",
              "    </tr>\n",
              "    <tr>\n",
              "      <th>4996</th>\n",
              "      <td>4997</td>\n",
              "      <td>30</td>\n",
              "      <td>4</td>\n",
              "      <td>15</td>\n",
              "      <td>92037</td>\n",
              "      <td>4</td>\n",
              "      <td>0.4</td>\n",
              "      <td>1</td>\n",
              "      <td>85</td>\n",
              "      <td>0</td>\n",
              "      <td>0</td>\n",
              "      <td>0</td>\n",
              "      <td>1</td>\n",
              "      <td>0</td>\n",
              "    </tr>\n",
              "    <tr>\n",
              "      <th>4997</th>\n",
              "      <td>4998</td>\n",
              "      <td>63</td>\n",
              "      <td>39</td>\n",
              "      <td>24</td>\n",
              "      <td>93023</td>\n",
              "      <td>2</td>\n",
              "      <td>0.3</td>\n",
              "      <td>3</td>\n",
              "      <td>0</td>\n",
              "      <td>0</td>\n",
              "      <td>0</td>\n",
              "      <td>0</td>\n",
              "      <td>0</td>\n",
              "      <td>0</td>\n",
              "    </tr>\n",
              "    <tr>\n",
              "      <th>4998</th>\n",
              "      <td>4999</td>\n",
              "      <td>65</td>\n",
              "      <td>40</td>\n",
              "      <td>49</td>\n",
              "      <td>90034</td>\n",
              "      <td>3</td>\n",
              "      <td>0.5</td>\n",
              "      <td>2</td>\n",
              "      <td>0</td>\n",
              "      <td>0</td>\n",
              "      <td>0</td>\n",
              "      <td>0</td>\n",
              "      <td>1</td>\n",
              "      <td>0</td>\n",
              "    </tr>\n",
              "    <tr>\n",
              "      <th>4999</th>\n",
              "      <td>5000</td>\n",
              "      <td>28</td>\n",
              "      <td>4</td>\n",
              "      <td>83</td>\n",
              "      <td>92612</td>\n",
              "      <td>3</td>\n",
              "      <td>0.8</td>\n",
              "      <td>1</td>\n",
              "      <td>0</td>\n",
              "      <td>0</td>\n",
              "      <td>0</td>\n",
              "      <td>0</td>\n",
              "      <td>1</td>\n",
              "      <td>1</td>\n",
              "    </tr>\n",
              "  </tbody>\n",
              "</table>\n",
              "</div>\n",
              "      <button class=\"colab-df-convert\" onclick=\"convertToInteractive('df-20e08dde-e3df-407e-acb1-96a099fb86ea')\"\n",
              "              title=\"Convert this dataframe to an interactive table.\"\n",
              "              style=\"display:none;\">\n",
              "        \n",
              "  <svg xmlns=\"http://www.w3.org/2000/svg\" height=\"24px\"viewBox=\"0 0 24 24\"\n",
              "       width=\"24px\">\n",
              "    <path d=\"M0 0h24v24H0V0z\" fill=\"none\"/>\n",
              "    <path d=\"M18.56 5.44l.94 2.06.94-2.06 2.06-.94-2.06-.94-.94-2.06-.94 2.06-2.06.94zm-11 1L8.5 8.5l.94-2.06 2.06-.94-2.06-.94L8.5 2.5l-.94 2.06-2.06.94zm10 10l.94 2.06.94-2.06 2.06-.94-2.06-.94-.94-2.06-.94 2.06-2.06.94z\"/><path d=\"M17.41 7.96l-1.37-1.37c-.4-.4-.92-.59-1.43-.59-.52 0-1.04.2-1.43.59L10.3 9.45l-7.72 7.72c-.78.78-.78 2.05 0 2.83L4 21.41c.39.39.9.59 1.41.59.51 0 1.02-.2 1.41-.59l7.78-7.78 2.81-2.81c.8-.78.8-2.07 0-2.86zM5.41 20L4 18.59l7.72-7.72 1.47 1.35L5.41 20z\"/>\n",
              "  </svg>\n",
              "      </button>\n",
              "      \n",
              "  <style>\n",
              "    .colab-df-container {\n",
              "      display:flex;\n",
              "      flex-wrap:wrap;\n",
              "      gap: 12px;\n",
              "    }\n",
              "\n",
              "    .colab-df-convert {\n",
              "      background-color: #E8F0FE;\n",
              "      border: none;\n",
              "      border-radius: 50%;\n",
              "      cursor: pointer;\n",
              "      display: none;\n",
              "      fill: #1967D2;\n",
              "      height: 32px;\n",
              "      padding: 0 0 0 0;\n",
              "      width: 32px;\n",
              "    }\n",
              "\n",
              "    .colab-df-convert:hover {\n",
              "      background-color: #E2EBFA;\n",
              "      box-shadow: 0px 1px 2px rgba(60, 64, 67, 0.3), 0px 1px 3px 1px rgba(60, 64, 67, 0.15);\n",
              "      fill: #174EA6;\n",
              "    }\n",
              "\n",
              "    [theme=dark] .colab-df-convert {\n",
              "      background-color: #3B4455;\n",
              "      fill: #D2E3FC;\n",
              "    }\n",
              "\n",
              "    [theme=dark] .colab-df-convert:hover {\n",
              "      background-color: #434B5C;\n",
              "      box-shadow: 0px 1px 3px 1px rgba(0, 0, 0, 0.15);\n",
              "      filter: drop-shadow(0px 1px 2px rgba(0, 0, 0, 0.3));\n",
              "      fill: #FFFFFF;\n",
              "    }\n",
              "  </style>\n",
              "\n",
              "      <script>\n",
              "        const buttonEl =\n",
              "          document.querySelector('#df-20e08dde-e3df-407e-acb1-96a099fb86ea button.colab-df-convert');\n",
              "        buttonEl.style.display =\n",
              "          google.colab.kernel.accessAllowed ? 'block' : 'none';\n",
              "\n",
              "        async function convertToInteractive(key) {\n",
              "          const element = document.querySelector('#df-20e08dde-e3df-407e-acb1-96a099fb86ea');\n",
              "          const dataTable =\n",
              "            await google.colab.kernel.invokeFunction('convertToInteractive',\n",
              "                                                     [key], {});\n",
              "          if (!dataTable) return;\n",
              "\n",
              "          const docLinkHtml = 'Like what you see? Visit the ' +\n",
              "            '<a target=\"_blank\" href=https://colab.research.google.com/notebooks/data_table.ipynb>data table notebook</a>'\n",
              "            + ' to learn more about interactive tables.';\n",
              "          element.innerHTML = '';\n",
              "          dataTable['output_type'] = 'display_data';\n",
              "          await google.colab.output.renderOutput(dataTable, element);\n",
              "          const docLink = document.createElement('div');\n",
              "          docLink.innerHTML = docLinkHtml;\n",
              "          element.appendChild(docLink);\n",
              "        }\n",
              "      </script>\n",
              "    </div>\n",
              "  </div>\n",
              "  "
            ]
          },
          "metadata": {},
          "execution_count": 93
        }
      ],
      "source": [
        "data.tail()"
      ]
    },
    {
      "cell_type": "code",
      "execution_count": null,
      "metadata": {
        "colab": {
          "base_uri": "https://localhost:8080/",
          "height": 382
        },
        "id": "A2GOCfqyHKJ2",
        "outputId": "dbbb1c1f-4c7f-4cc2-a6f9-b7ea472318b6"
      },
      "outputs": [
        {
          "output_type": "execute_result",
          "data": {
            "text/plain": [
              "                ID          Age   Experience       Income      ZIP Code  \\\n",
              "count  5000.000000  5000.000000  5000.000000  5000.000000   5000.000000   \n",
              "mean   2500.500000    45.338400    20.104600    73.774200  93152.503000   \n",
              "std    1443.520003    11.463166    11.467954    46.033729   2121.852197   \n",
              "min       1.000000    23.000000    -3.000000     8.000000   9307.000000   \n",
              "25%    1250.750000    35.000000    10.000000    39.000000  91911.000000   \n",
              "50%    2500.500000    45.000000    20.000000    64.000000  93437.000000   \n",
              "75%    3750.250000    55.000000    30.000000    98.000000  94608.000000   \n",
              "max    5000.000000    67.000000    43.000000   224.000000  96651.000000   \n",
              "\n",
              "            Family        CCAvg    Education     Mortgage  Personal Loan  \\\n",
              "count  5000.000000  5000.000000  5000.000000  5000.000000    5000.000000   \n",
              "mean      2.396400     1.937938     1.881000    56.498800       0.096000   \n",
              "std       1.147663     1.747659     0.839869   101.713802       0.294621   \n",
              "min       1.000000     0.000000     1.000000     0.000000       0.000000   \n",
              "25%       1.000000     0.700000     1.000000     0.000000       0.000000   \n",
              "50%       2.000000     1.500000     2.000000     0.000000       0.000000   \n",
              "75%       3.000000     2.500000     3.000000   101.000000       0.000000   \n",
              "max       4.000000    10.000000     3.000000   635.000000       1.000000   \n",
              "\n",
              "       Securities Account  CD Account       Online   CreditCard  \n",
              "count         5000.000000  5000.00000  5000.000000  5000.000000  \n",
              "mean             0.104400     0.06040     0.596800     0.294000  \n",
              "std              0.305809     0.23825     0.490589     0.455637  \n",
              "min              0.000000     0.00000     0.000000     0.000000  \n",
              "25%              0.000000     0.00000     0.000000     0.000000  \n",
              "50%              0.000000     0.00000     1.000000     0.000000  \n",
              "75%              0.000000     0.00000     1.000000     1.000000  \n",
              "max              1.000000     1.00000     1.000000     1.000000  "
            ],
            "text/html": [
              "\n",
              "  <div id=\"df-587d606d-9712-460f-9927-2effdce7a397\">\n",
              "    <div class=\"colab-df-container\">\n",
              "      <div>\n",
              "<style scoped>\n",
              "    .dataframe tbody tr th:only-of-type {\n",
              "        vertical-align: middle;\n",
              "    }\n",
              "\n",
              "    .dataframe tbody tr th {\n",
              "        vertical-align: top;\n",
              "    }\n",
              "\n",
              "    .dataframe thead th {\n",
              "        text-align: right;\n",
              "    }\n",
              "</style>\n",
              "<table border=\"1\" class=\"dataframe\">\n",
              "  <thead>\n",
              "    <tr style=\"text-align: right;\">\n",
              "      <th></th>\n",
              "      <th>ID</th>\n",
              "      <th>Age</th>\n",
              "      <th>Experience</th>\n",
              "      <th>Income</th>\n",
              "      <th>ZIP Code</th>\n",
              "      <th>Family</th>\n",
              "      <th>CCAvg</th>\n",
              "      <th>Education</th>\n",
              "      <th>Mortgage</th>\n",
              "      <th>Personal Loan</th>\n",
              "      <th>Securities Account</th>\n",
              "      <th>CD Account</th>\n",
              "      <th>Online</th>\n",
              "      <th>CreditCard</th>\n",
              "    </tr>\n",
              "  </thead>\n",
              "  <tbody>\n",
              "    <tr>\n",
              "      <th>count</th>\n",
              "      <td>5000.000000</td>\n",
              "      <td>5000.000000</td>\n",
              "      <td>5000.000000</td>\n",
              "      <td>5000.000000</td>\n",
              "      <td>5000.000000</td>\n",
              "      <td>5000.000000</td>\n",
              "      <td>5000.000000</td>\n",
              "      <td>5000.000000</td>\n",
              "      <td>5000.000000</td>\n",
              "      <td>5000.000000</td>\n",
              "      <td>5000.000000</td>\n",
              "      <td>5000.00000</td>\n",
              "      <td>5000.000000</td>\n",
              "      <td>5000.000000</td>\n",
              "    </tr>\n",
              "    <tr>\n",
              "      <th>mean</th>\n",
              "      <td>2500.500000</td>\n",
              "      <td>45.338400</td>\n",
              "      <td>20.104600</td>\n",
              "      <td>73.774200</td>\n",
              "      <td>93152.503000</td>\n",
              "      <td>2.396400</td>\n",
              "      <td>1.937938</td>\n",
              "      <td>1.881000</td>\n",
              "      <td>56.498800</td>\n",
              "      <td>0.096000</td>\n",
              "      <td>0.104400</td>\n",
              "      <td>0.06040</td>\n",
              "      <td>0.596800</td>\n",
              "      <td>0.294000</td>\n",
              "    </tr>\n",
              "    <tr>\n",
              "      <th>std</th>\n",
              "      <td>1443.520003</td>\n",
              "      <td>11.463166</td>\n",
              "      <td>11.467954</td>\n",
              "      <td>46.033729</td>\n",
              "      <td>2121.852197</td>\n",
              "      <td>1.147663</td>\n",
              "      <td>1.747659</td>\n",
              "      <td>0.839869</td>\n",
              "      <td>101.713802</td>\n",
              "      <td>0.294621</td>\n",
              "      <td>0.305809</td>\n",
              "      <td>0.23825</td>\n",
              "      <td>0.490589</td>\n",
              "      <td>0.455637</td>\n",
              "    </tr>\n",
              "    <tr>\n",
              "      <th>min</th>\n",
              "      <td>1.000000</td>\n",
              "      <td>23.000000</td>\n",
              "      <td>-3.000000</td>\n",
              "      <td>8.000000</td>\n",
              "      <td>9307.000000</td>\n",
              "      <td>1.000000</td>\n",
              "      <td>0.000000</td>\n",
              "      <td>1.000000</td>\n",
              "      <td>0.000000</td>\n",
              "      <td>0.000000</td>\n",
              "      <td>0.000000</td>\n",
              "      <td>0.00000</td>\n",
              "      <td>0.000000</td>\n",
              "      <td>0.000000</td>\n",
              "    </tr>\n",
              "    <tr>\n",
              "      <th>25%</th>\n",
              "      <td>1250.750000</td>\n",
              "      <td>35.000000</td>\n",
              "      <td>10.000000</td>\n",
              "      <td>39.000000</td>\n",
              "      <td>91911.000000</td>\n",
              "      <td>1.000000</td>\n",
              "      <td>0.700000</td>\n",
              "      <td>1.000000</td>\n",
              "      <td>0.000000</td>\n",
              "      <td>0.000000</td>\n",
              "      <td>0.000000</td>\n",
              "      <td>0.00000</td>\n",
              "      <td>0.000000</td>\n",
              "      <td>0.000000</td>\n",
              "    </tr>\n",
              "    <tr>\n",
              "      <th>50%</th>\n",
              "      <td>2500.500000</td>\n",
              "      <td>45.000000</td>\n",
              "      <td>20.000000</td>\n",
              "      <td>64.000000</td>\n",
              "      <td>93437.000000</td>\n",
              "      <td>2.000000</td>\n",
              "      <td>1.500000</td>\n",
              "      <td>2.000000</td>\n",
              "      <td>0.000000</td>\n",
              "      <td>0.000000</td>\n",
              "      <td>0.000000</td>\n",
              "      <td>0.00000</td>\n",
              "      <td>1.000000</td>\n",
              "      <td>0.000000</td>\n",
              "    </tr>\n",
              "    <tr>\n",
              "      <th>75%</th>\n",
              "      <td>3750.250000</td>\n",
              "      <td>55.000000</td>\n",
              "      <td>30.000000</td>\n",
              "      <td>98.000000</td>\n",
              "      <td>94608.000000</td>\n",
              "      <td>3.000000</td>\n",
              "      <td>2.500000</td>\n",
              "      <td>3.000000</td>\n",
              "      <td>101.000000</td>\n",
              "      <td>0.000000</td>\n",
              "      <td>0.000000</td>\n",
              "      <td>0.00000</td>\n",
              "      <td>1.000000</td>\n",
              "      <td>1.000000</td>\n",
              "    </tr>\n",
              "    <tr>\n",
              "      <th>max</th>\n",
              "      <td>5000.000000</td>\n",
              "      <td>67.000000</td>\n",
              "      <td>43.000000</td>\n",
              "      <td>224.000000</td>\n",
              "      <td>96651.000000</td>\n",
              "      <td>4.000000</td>\n",
              "      <td>10.000000</td>\n",
              "      <td>3.000000</td>\n",
              "      <td>635.000000</td>\n",
              "      <td>1.000000</td>\n",
              "      <td>1.000000</td>\n",
              "      <td>1.00000</td>\n",
              "      <td>1.000000</td>\n",
              "      <td>1.000000</td>\n",
              "    </tr>\n",
              "  </tbody>\n",
              "</table>\n",
              "</div>\n",
              "      <button class=\"colab-df-convert\" onclick=\"convertToInteractive('df-587d606d-9712-460f-9927-2effdce7a397')\"\n",
              "              title=\"Convert this dataframe to an interactive table.\"\n",
              "              style=\"display:none;\">\n",
              "        \n",
              "  <svg xmlns=\"http://www.w3.org/2000/svg\" height=\"24px\"viewBox=\"0 0 24 24\"\n",
              "       width=\"24px\">\n",
              "    <path d=\"M0 0h24v24H0V0z\" fill=\"none\"/>\n",
              "    <path d=\"M18.56 5.44l.94 2.06.94-2.06 2.06-.94-2.06-.94-.94-2.06-.94 2.06-2.06.94zm-11 1L8.5 8.5l.94-2.06 2.06-.94-2.06-.94L8.5 2.5l-.94 2.06-2.06.94zm10 10l.94 2.06.94-2.06 2.06-.94-2.06-.94-.94-2.06-.94 2.06-2.06.94z\"/><path d=\"M17.41 7.96l-1.37-1.37c-.4-.4-.92-.59-1.43-.59-.52 0-1.04.2-1.43.59L10.3 9.45l-7.72 7.72c-.78.78-.78 2.05 0 2.83L4 21.41c.39.39.9.59 1.41.59.51 0 1.02-.2 1.41-.59l7.78-7.78 2.81-2.81c.8-.78.8-2.07 0-2.86zM5.41 20L4 18.59l7.72-7.72 1.47 1.35L5.41 20z\"/>\n",
              "  </svg>\n",
              "      </button>\n",
              "      \n",
              "  <style>\n",
              "    .colab-df-container {\n",
              "      display:flex;\n",
              "      flex-wrap:wrap;\n",
              "      gap: 12px;\n",
              "    }\n",
              "\n",
              "    .colab-df-convert {\n",
              "      background-color: #E8F0FE;\n",
              "      border: none;\n",
              "      border-radius: 50%;\n",
              "      cursor: pointer;\n",
              "      display: none;\n",
              "      fill: #1967D2;\n",
              "      height: 32px;\n",
              "      padding: 0 0 0 0;\n",
              "      width: 32px;\n",
              "    }\n",
              "\n",
              "    .colab-df-convert:hover {\n",
              "      background-color: #E2EBFA;\n",
              "      box-shadow: 0px 1px 2px rgba(60, 64, 67, 0.3), 0px 1px 3px 1px rgba(60, 64, 67, 0.15);\n",
              "      fill: #174EA6;\n",
              "    }\n",
              "\n",
              "    [theme=dark] .colab-df-convert {\n",
              "      background-color: #3B4455;\n",
              "      fill: #D2E3FC;\n",
              "    }\n",
              "\n",
              "    [theme=dark] .colab-df-convert:hover {\n",
              "      background-color: #434B5C;\n",
              "      box-shadow: 0px 1px 3px 1px rgba(0, 0, 0, 0.15);\n",
              "      filter: drop-shadow(0px 1px 2px rgba(0, 0, 0, 0.3));\n",
              "      fill: #FFFFFF;\n",
              "    }\n",
              "  </style>\n",
              "\n",
              "      <script>\n",
              "        const buttonEl =\n",
              "          document.querySelector('#df-587d606d-9712-460f-9927-2effdce7a397 button.colab-df-convert');\n",
              "        buttonEl.style.display =\n",
              "          google.colab.kernel.accessAllowed ? 'block' : 'none';\n",
              "\n",
              "        async function convertToInteractive(key) {\n",
              "          const element = document.querySelector('#df-587d606d-9712-460f-9927-2effdce7a397');\n",
              "          const dataTable =\n",
              "            await google.colab.kernel.invokeFunction('convertToInteractive',\n",
              "                                                     [key], {});\n",
              "          if (!dataTable) return;\n",
              "\n",
              "          const docLinkHtml = 'Like what you see? Visit the ' +\n",
              "            '<a target=\"_blank\" href=https://colab.research.google.com/notebooks/data_table.ipynb>data table notebook</a>'\n",
              "            + ' to learn more about interactive tables.';\n",
              "          element.innerHTML = '';\n",
              "          dataTable['output_type'] = 'display_data';\n",
              "          await google.colab.output.renderOutput(dataTable, element);\n",
              "          const docLink = document.createElement('div');\n",
              "          docLink.innerHTML = docLinkHtml;\n",
              "          element.appendChild(docLink);\n",
              "        }\n",
              "      </script>\n",
              "    </div>\n",
              "  </div>\n",
              "  "
            ]
          },
          "metadata": {},
          "execution_count": 94
        }
      ],
      "source": [
        "data.describe(include='all')"
      ]
    },
    {
      "cell_type": "code",
      "execution_count": null,
      "metadata": {
        "colab": {
          "base_uri": "https://localhost:8080/"
        },
        "id": "vyQr4dQLHMeD",
        "outputId": "077a5f80-b6fb-4266-a66d-4fbe589f6ef9"
      },
      "outputs": [
        {
          "output_type": "execute_result",
          "data": {
            "text/plain": [
              "(5000, 14)"
            ]
          },
          "metadata": {},
          "execution_count": 95
        }
      ],
      "source": [
        "data.shape"
      ]
    },
    {
      "cell_type": "code",
      "execution_count": null,
      "metadata": {
        "colab": {
          "base_uri": "https://localhost:8080/"
        },
        "id": "TUqX6kSvHhCz",
        "outputId": "b86baa5a-7ea5-4adb-ec76-f1097abc4b99"
      },
      "outputs": [
        {
          "output_type": "stream",
          "name": "stdout",
          "text": [
            "<class 'pandas.core.frame.DataFrame'>\n",
            "RangeIndex: 5000 entries, 0 to 4999\n",
            "Data columns (total 14 columns):\n",
            " #   Column              Non-Null Count  Dtype  \n",
            "---  ------              --------------  -----  \n",
            " 0   ID                  5000 non-null   int64  \n",
            " 1   Age                 5000 non-null   int64  \n",
            " 2   Experience          5000 non-null   int64  \n",
            " 3   Income              5000 non-null   int64  \n",
            " 4   ZIP Code            5000 non-null   int64  \n",
            " 5   Family              5000 non-null   int64  \n",
            " 6   CCAvg               5000 non-null   float64\n",
            " 7   Education           5000 non-null   int64  \n",
            " 8   Mortgage            5000 non-null   int64  \n",
            " 9   Personal Loan       5000 non-null   int64  \n",
            " 10  Securities Account  5000 non-null   int64  \n",
            " 11  CD Account          5000 non-null   int64  \n",
            " 12  Online              5000 non-null   int64  \n",
            " 13  CreditCard          5000 non-null   int64  \n",
            "dtypes: float64(1), int64(13)\n",
            "memory usage: 547.0 KB\n"
          ]
        }
      ],
      "source": [
        "data.info()"
      ]
    },
    {
      "cell_type": "code",
      "execution_count": null,
      "metadata": {
        "colab": {
          "base_uri": "https://localhost:8080/"
        },
        "id": "nl5pH_HhHo2A",
        "outputId": "a233078e-224d-4f02-85c6-49e73b777a1a"
      },
      "outputs": [
        {
          "output_type": "execute_result",
          "data": {
            "text/plain": [
              "ID                    0\n",
              "Age                   0\n",
              "Experience            0\n",
              "Income                0\n",
              "ZIP Code              0\n",
              "Family                0\n",
              "CCAvg                 0\n",
              "Education             0\n",
              "Mortgage              0\n",
              "Personal Loan         0\n",
              "Securities Account    0\n",
              "CD Account            0\n",
              "Online                0\n",
              "CreditCard            0\n",
              "dtype: int64"
            ]
          },
          "metadata": {},
          "execution_count": 97
        }
      ],
      "source": [
        "data.isna().sum()"
      ]
    },
    {
      "cell_type": "code",
      "execution_count": null,
      "metadata": {
        "colab": {
          "base_uri": "https://localhost:8080/"
        },
        "id": "1OUngtBYH5Wi",
        "outputId": "0b4e7598-36fd-49a6-e94f-b23faf053e33"
      },
      "outputs": [
        {
          "output_type": "execute_result",
          "data": {
            "text/plain": [
              "0"
            ]
          },
          "metadata": {},
          "execution_count": 98
        }
      ],
      "source": [
        "data.duplicated().sum()"
      ]
    },
    {
      "cell_type": "code",
      "execution_count": null,
      "metadata": {
        "colab": {
          "base_uri": "https://localhost:8080/",
          "height": 382
        },
        "id": "BwaesjOf5ERJ",
        "outputId": "5f1b3583-74a9-4dfd-cc72-3478d48ef656"
      },
      "outputs": [
        {
          "output_type": "execute_result",
          "data": {
            "text/plain": [
              "                ID          Age   Experience       Income      ZIP Code  \\\n",
              "count  5000.000000  5000.000000  5000.000000  5000.000000   5000.000000   \n",
              "mean   2500.500000    45.338400    20.104600    73.774200  93152.503000   \n",
              "std    1443.520003    11.463166    11.467954    46.033729   2121.852197   \n",
              "min       1.000000    23.000000    -3.000000     8.000000   9307.000000   \n",
              "25%    1250.750000    35.000000    10.000000    39.000000  91911.000000   \n",
              "50%    2500.500000    45.000000    20.000000    64.000000  93437.000000   \n",
              "75%    3750.250000    55.000000    30.000000    98.000000  94608.000000   \n",
              "max    5000.000000    67.000000    43.000000   224.000000  96651.000000   \n",
              "\n",
              "            Family        CCAvg    Education     Mortgage  Personal Loan  \\\n",
              "count  5000.000000  5000.000000  5000.000000  5000.000000    5000.000000   \n",
              "mean      2.396400     1.937938     1.881000    56.498800       0.096000   \n",
              "std       1.147663     1.747659     0.839869   101.713802       0.294621   \n",
              "min       1.000000     0.000000     1.000000     0.000000       0.000000   \n",
              "25%       1.000000     0.700000     1.000000     0.000000       0.000000   \n",
              "50%       2.000000     1.500000     2.000000     0.000000       0.000000   \n",
              "75%       3.000000     2.500000     3.000000   101.000000       0.000000   \n",
              "max       4.000000    10.000000     3.000000   635.000000       1.000000   \n",
              "\n",
              "       Securities Account  CD Account       Online   CreditCard  \n",
              "count         5000.000000  5000.00000  5000.000000  5000.000000  \n",
              "mean             0.104400     0.06040     0.596800     0.294000  \n",
              "std              0.305809     0.23825     0.490589     0.455637  \n",
              "min              0.000000     0.00000     0.000000     0.000000  \n",
              "25%              0.000000     0.00000     0.000000     0.000000  \n",
              "50%              0.000000     0.00000     1.000000     0.000000  \n",
              "75%              0.000000     0.00000     1.000000     1.000000  \n",
              "max              1.000000     1.00000     1.000000     1.000000  "
            ],
            "text/html": [
              "\n",
              "  <div id=\"df-502f3635-dea6-4ef4-9848-f17a6dcf1a32\">\n",
              "    <div class=\"colab-df-container\">\n",
              "      <div>\n",
              "<style scoped>\n",
              "    .dataframe tbody tr th:only-of-type {\n",
              "        vertical-align: middle;\n",
              "    }\n",
              "\n",
              "    .dataframe tbody tr th {\n",
              "        vertical-align: top;\n",
              "    }\n",
              "\n",
              "    .dataframe thead th {\n",
              "        text-align: right;\n",
              "    }\n",
              "</style>\n",
              "<table border=\"1\" class=\"dataframe\">\n",
              "  <thead>\n",
              "    <tr style=\"text-align: right;\">\n",
              "      <th></th>\n",
              "      <th>ID</th>\n",
              "      <th>Age</th>\n",
              "      <th>Experience</th>\n",
              "      <th>Income</th>\n",
              "      <th>ZIP Code</th>\n",
              "      <th>Family</th>\n",
              "      <th>CCAvg</th>\n",
              "      <th>Education</th>\n",
              "      <th>Mortgage</th>\n",
              "      <th>Personal Loan</th>\n",
              "      <th>Securities Account</th>\n",
              "      <th>CD Account</th>\n",
              "      <th>Online</th>\n",
              "      <th>CreditCard</th>\n",
              "    </tr>\n",
              "  </thead>\n",
              "  <tbody>\n",
              "    <tr>\n",
              "      <th>count</th>\n",
              "      <td>5000.000000</td>\n",
              "      <td>5000.000000</td>\n",
              "      <td>5000.000000</td>\n",
              "      <td>5000.000000</td>\n",
              "      <td>5000.000000</td>\n",
              "      <td>5000.000000</td>\n",
              "      <td>5000.000000</td>\n",
              "      <td>5000.000000</td>\n",
              "      <td>5000.000000</td>\n",
              "      <td>5000.000000</td>\n",
              "      <td>5000.000000</td>\n",
              "      <td>5000.00000</td>\n",
              "      <td>5000.000000</td>\n",
              "      <td>5000.000000</td>\n",
              "    </tr>\n",
              "    <tr>\n",
              "      <th>mean</th>\n",
              "      <td>2500.500000</td>\n",
              "      <td>45.338400</td>\n",
              "      <td>20.104600</td>\n",
              "      <td>73.774200</td>\n",
              "      <td>93152.503000</td>\n",
              "      <td>2.396400</td>\n",
              "      <td>1.937938</td>\n",
              "      <td>1.881000</td>\n",
              "      <td>56.498800</td>\n",
              "      <td>0.096000</td>\n",
              "      <td>0.104400</td>\n",
              "      <td>0.06040</td>\n",
              "      <td>0.596800</td>\n",
              "      <td>0.294000</td>\n",
              "    </tr>\n",
              "    <tr>\n",
              "      <th>std</th>\n",
              "      <td>1443.520003</td>\n",
              "      <td>11.463166</td>\n",
              "      <td>11.467954</td>\n",
              "      <td>46.033729</td>\n",
              "      <td>2121.852197</td>\n",
              "      <td>1.147663</td>\n",
              "      <td>1.747659</td>\n",
              "      <td>0.839869</td>\n",
              "      <td>101.713802</td>\n",
              "      <td>0.294621</td>\n",
              "      <td>0.305809</td>\n",
              "      <td>0.23825</td>\n",
              "      <td>0.490589</td>\n",
              "      <td>0.455637</td>\n",
              "    </tr>\n",
              "    <tr>\n",
              "      <th>min</th>\n",
              "      <td>1.000000</td>\n",
              "      <td>23.000000</td>\n",
              "      <td>-3.000000</td>\n",
              "      <td>8.000000</td>\n",
              "      <td>9307.000000</td>\n",
              "      <td>1.000000</td>\n",
              "      <td>0.000000</td>\n",
              "      <td>1.000000</td>\n",
              "      <td>0.000000</td>\n",
              "      <td>0.000000</td>\n",
              "      <td>0.000000</td>\n",
              "      <td>0.00000</td>\n",
              "      <td>0.000000</td>\n",
              "      <td>0.000000</td>\n",
              "    </tr>\n",
              "    <tr>\n",
              "      <th>25%</th>\n",
              "      <td>1250.750000</td>\n",
              "      <td>35.000000</td>\n",
              "      <td>10.000000</td>\n",
              "      <td>39.000000</td>\n",
              "      <td>91911.000000</td>\n",
              "      <td>1.000000</td>\n",
              "      <td>0.700000</td>\n",
              "      <td>1.000000</td>\n",
              "      <td>0.000000</td>\n",
              "      <td>0.000000</td>\n",
              "      <td>0.000000</td>\n",
              "      <td>0.00000</td>\n",
              "      <td>0.000000</td>\n",
              "      <td>0.000000</td>\n",
              "    </tr>\n",
              "    <tr>\n",
              "      <th>50%</th>\n",
              "      <td>2500.500000</td>\n",
              "      <td>45.000000</td>\n",
              "      <td>20.000000</td>\n",
              "      <td>64.000000</td>\n",
              "      <td>93437.000000</td>\n",
              "      <td>2.000000</td>\n",
              "      <td>1.500000</td>\n",
              "      <td>2.000000</td>\n",
              "      <td>0.000000</td>\n",
              "      <td>0.000000</td>\n",
              "      <td>0.000000</td>\n",
              "      <td>0.00000</td>\n",
              "      <td>1.000000</td>\n",
              "      <td>0.000000</td>\n",
              "    </tr>\n",
              "    <tr>\n",
              "      <th>75%</th>\n",
              "      <td>3750.250000</td>\n",
              "      <td>55.000000</td>\n",
              "      <td>30.000000</td>\n",
              "      <td>98.000000</td>\n",
              "      <td>94608.000000</td>\n",
              "      <td>3.000000</td>\n",
              "      <td>2.500000</td>\n",
              "      <td>3.000000</td>\n",
              "      <td>101.000000</td>\n",
              "      <td>0.000000</td>\n",
              "      <td>0.000000</td>\n",
              "      <td>0.00000</td>\n",
              "      <td>1.000000</td>\n",
              "      <td>1.000000</td>\n",
              "    </tr>\n",
              "    <tr>\n",
              "      <th>max</th>\n",
              "      <td>5000.000000</td>\n",
              "      <td>67.000000</td>\n",
              "      <td>43.000000</td>\n",
              "      <td>224.000000</td>\n",
              "      <td>96651.000000</td>\n",
              "      <td>4.000000</td>\n",
              "      <td>10.000000</td>\n",
              "      <td>3.000000</td>\n",
              "      <td>635.000000</td>\n",
              "      <td>1.000000</td>\n",
              "      <td>1.000000</td>\n",
              "      <td>1.00000</td>\n",
              "      <td>1.000000</td>\n",
              "      <td>1.000000</td>\n",
              "    </tr>\n",
              "  </tbody>\n",
              "</table>\n",
              "</div>\n",
              "      <button class=\"colab-df-convert\" onclick=\"convertToInteractive('df-502f3635-dea6-4ef4-9848-f17a6dcf1a32')\"\n",
              "              title=\"Convert this dataframe to an interactive table.\"\n",
              "              style=\"display:none;\">\n",
              "        \n",
              "  <svg xmlns=\"http://www.w3.org/2000/svg\" height=\"24px\"viewBox=\"0 0 24 24\"\n",
              "       width=\"24px\">\n",
              "    <path d=\"M0 0h24v24H0V0z\" fill=\"none\"/>\n",
              "    <path d=\"M18.56 5.44l.94 2.06.94-2.06 2.06-.94-2.06-.94-.94-2.06-.94 2.06-2.06.94zm-11 1L8.5 8.5l.94-2.06 2.06-.94-2.06-.94L8.5 2.5l-.94 2.06-2.06.94zm10 10l.94 2.06.94-2.06 2.06-.94-2.06-.94-.94-2.06-.94 2.06-2.06.94z\"/><path d=\"M17.41 7.96l-1.37-1.37c-.4-.4-.92-.59-1.43-.59-.52 0-1.04.2-1.43.59L10.3 9.45l-7.72 7.72c-.78.78-.78 2.05 0 2.83L4 21.41c.39.39.9.59 1.41.59.51 0 1.02-.2 1.41-.59l7.78-7.78 2.81-2.81c.8-.78.8-2.07 0-2.86zM5.41 20L4 18.59l7.72-7.72 1.47 1.35L5.41 20z\"/>\n",
              "  </svg>\n",
              "      </button>\n",
              "      \n",
              "  <style>\n",
              "    .colab-df-container {\n",
              "      display:flex;\n",
              "      flex-wrap:wrap;\n",
              "      gap: 12px;\n",
              "    }\n",
              "\n",
              "    .colab-df-convert {\n",
              "      background-color: #E8F0FE;\n",
              "      border: none;\n",
              "      border-radius: 50%;\n",
              "      cursor: pointer;\n",
              "      display: none;\n",
              "      fill: #1967D2;\n",
              "      height: 32px;\n",
              "      padding: 0 0 0 0;\n",
              "      width: 32px;\n",
              "    }\n",
              "\n",
              "    .colab-df-convert:hover {\n",
              "      background-color: #E2EBFA;\n",
              "      box-shadow: 0px 1px 2px rgba(60, 64, 67, 0.3), 0px 1px 3px 1px rgba(60, 64, 67, 0.15);\n",
              "      fill: #174EA6;\n",
              "    }\n",
              "\n",
              "    [theme=dark] .colab-df-convert {\n",
              "      background-color: #3B4455;\n",
              "      fill: #D2E3FC;\n",
              "    }\n",
              "\n",
              "    [theme=dark] .colab-df-convert:hover {\n",
              "      background-color: #434B5C;\n",
              "      box-shadow: 0px 1px 3px 1px rgba(0, 0, 0, 0.15);\n",
              "      filter: drop-shadow(0px 1px 2px rgba(0, 0, 0, 0.3));\n",
              "      fill: #FFFFFF;\n",
              "    }\n",
              "  </style>\n",
              "\n",
              "      <script>\n",
              "        const buttonEl =\n",
              "          document.querySelector('#df-502f3635-dea6-4ef4-9848-f17a6dcf1a32 button.colab-df-convert');\n",
              "        buttonEl.style.display =\n",
              "          google.colab.kernel.accessAllowed ? 'block' : 'none';\n",
              "\n",
              "        async function convertToInteractive(key) {\n",
              "          const element = document.querySelector('#df-502f3635-dea6-4ef4-9848-f17a6dcf1a32');\n",
              "          const dataTable =\n",
              "            await google.colab.kernel.invokeFunction('convertToInteractive',\n",
              "                                                     [key], {});\n",
              "          if (!dataTable) return;\n",
              "\n",
              "          const docLinkHtml = 'Like what you see? Visit the ' +\n",
              "            '<a target=\"_blank\" href=https://colab.research.google.com/notebooks/data_table.ipynb>data table notebook</a>'\n",
              "            + ' to learn more about interactive tables.';\n",
              "          element.innerHTML = '';\n",
              "          dataTable['output_type'] = 'display_data';\n",
              "          await google.colab.output.renderOutput(dataTable, element);\n",
              "          const docLink = document.createElement('div');\n",
              "          docLink.innerHTML = docLinkHtml;\n",
              "          element.appendChild(docLink);\n",
              "        }\n",
              "      </script>\n",
              "    </div>\n",
              "  </div>\n",
              "  "
            ]
          },
          "metadata": {},
          "execution_count": 99
        }
      ],
      "source": [
        "data.describe()"
      ]
    },
    {
      "cell_type": "code",
      "execution_count": null,
      "metadata": {
        "colab": {
          "base_uri": "https://localhost:8080/"
        },
        "id": "sPRRYer26JtN",
        "outputId": "23f79b9e-9ccf-4ed8-c93c-2e07c1cf3365"
      },
      "outputs": [
        {
          "output_type": "execute_result",
          "data": {
            "text/plain": [
              "Index(['ID', 'Age', 'Experience', 'Income', 'ZIP Code', 'Family', 'CCAvg',\n",
              "       'Education', 'Mortgage', 'Personal Loan', 'Securities Account',\n",
              "       'CD Account', 'Online', 'CreditCard'],\n",
              "      dtype='object')"
            ]
          },
          "metadata": {},
          "execution_count": 100
        }
      ],
      "source": [
        "data.columns"
      ]
    },
    {
      "cell_type": "markdown",
      "metadata": {
        "id": "TQm-qVis6S5y"
      },
      "source": [
        "Dropping unnecessary attributes"
      ]
    },
    {
      "cell_type": "code",
      "execution_count": null,
      "metadata": {
        "id": "LYvAcFgD6Og9"
      },
      "outputs": [],
      "source": [
        "data.drop(['ID','ZIP Code'], axis=1, inplace= True)"
      ]
    },
    {
      "cell_type": "code",
      "execution_count": null,
      "metadata": {
        "colab": {
          "base_uri": "https://localhost:8080/",
          "height": 559
        },
        "id": "p0jYwaMz7avv",
        "outputId": "4c345b96-7169-47ec-b66b-aa50b8cc07cc"
      },
      "outputs": [
        {
          "output_type": "execute_result",
          "data": {
            "text/plain": [
              "                         Age  Experience    Income    Family     CCAvg  \\\n",
              "Age                 1.000000    0.994215 -0.055269 -0.046418 -0.052012   \n",
              "Experience          0.994215    1.000000 -0.046574 -0.052563 -0.050077   \n",
              "Income             -0.055269   -0.046574  1.000000 -0.157501  0.645984   \n",
              "Family             -0.046418   -0.052563 -0.157501  1.000000 -0.109275   \n",
              "CCAvg              -0.052012   -0.050077  0.645984 -0.109275  1.000000   \n",
              "Education           0.041334    0.013152 -0.187524  0.064929 -0.136124   \n",
              "Mortgage           -0.012539   -0.010582  0.206806 -0.020445  0.109905   \n",
              "Personal Loan      -0.007726   -0.007413  0.502462  0.061367  0.366889   \n",
              "Securities Account -0.000436   -0.001232 -0.002616  0.019994  0.015086   \n",
              "CD Account          0.008043    0.010353  0.169738  0.014110  0.136534   \n",
              "Online              0.013702    0.013898  0.014206  0.010354 -0.003611   \n",
              "CreditCard          0.007681    0.008967 -0.002385  0.011588 -0.006689   \n",
              "\n",
              "                    Education  Mortgage  Personal Loan  Securities Account  \\\n",
              "Age                  0.041334 -0.012539      -0.007726           -0.000436   \n",
              "Experience           0.013152 -0.010582      -0.007413           -0.001232   \n",
              "Income              -0.187524  0.206806       0.502462           -0.002616   \n",
              "Family               0.064929 -0.020445       0.061367            0.019994   \n",
              "CCAvg               -0.136124  0.109905       0.366889            0.015086   \n",
              "Education            1.000000 -0.033327       0.136722           -0.010812   \n",
              "Mortgage            -0.033327  1.000000       0.142095           -0.005411   \n",
              "Personal Loan        0.136722  0.142095       1.000000            0.021954   \n",
              "Securities Account  -0.010812 -0.005411       0.021954            1.000000   \n",
              "CD Account           0.013934  0.089311       0.316355            0.317034   \n",
              "Online              -0.015004 -0.005995       0.006278            0.012627   \n",
              "CreditCard          -0.011014 -0.007231       0.002802           -0.015028   \n",
              "\n",
              "                    CD Account    Online  CreditCard  \n",
              "Age                   0.008043  0.013702    0.007681  \n",
              "Experience            0.010353  0.013898    0.008967  \n",
              "Income                0.169738  0.014206   -0.002385  \n",
              "Family                0.014110  0.010354    0.011588  \n",
              "CCAvg                 0.136534 -0.003611   -0.006689  \n",
              "Education             0.013934 -0.015004   -0.011014  \n",
              "Mortgage              0.089311 -0.005995   -0.007231  \n",
              "Personal Loan         0.316355  0.006278    0.002802  \n",
              "Securities Account    0.317034  0.012627   -0.015028  \n",
              "CD Account            1.000000  0.175880    0.278644  \n",
              "Online                0.175880  1.000000    0.004210  \n",
              "CreditCard            0.278644  0.004210    1.000000  "
            ],
            "text/html": [
              "\n",
              "  <div id=\"df-401422ef-ee40-40ae-ae28-b85512ff8007\">\n",
              "    <div class=\"colab-df-container\">\n",
              "      <div>\n",
              "<style scoped>\n",
              "    .dataframe tbody tr th:only-of-type {\n",
              "        vertical-align: middle;\n",
              "    }\n",
              "\n",
              "    .dataframe tbody tr th {\n",
              "        vertical-align: top;\n",
              "    }\n",
              "\n",
              "    .dataframe thead th {\n",
              "        text-align: right;\n",
              "    }\n",
              "</style>\n",
              "<table border=\"1\" class=\"dataframe\">\n",
              "  <thead>\n",
              "    <tr style=\"text-align: right;\">\n",
              "      <th></th>\n",
              "      <th>Age</th>\n",
              "      <th>Experience</th>\n",
              "      <th>Income</th>\n",
              "      <th>Family</th>\n",
              "      <th>CCAvg</th>\n",
              "      <th>Education</th>\n",
              "      <th>Mortgage</th>\n",
              "      <th>Personal Loan</th>\n",
              "      <th>Securities Account</th>\n",
              "      <th>CD Account</th>\n",
              "      <th>Online</th>\n",
              "      <th>CreditCard</th>\n",
              "    </tr>\n",
              "  </thead>\n",
              "  <tbody>\n",
              "    <tr>\n",
              "      <th>Age</th>\n",
              "      <td>1.000000</td>\n",
              "      <td>0.994215</td>\n",
              "      <td>-0.055269</td>\n",
              "      <td>-0.046418</td>\n",
              "      <td>-0.052012</td>\n",
              "      <td>0.041334</td>\n",
              "      <td>-0.012539</td>\n",
              "      <td>-0.007726</td>\n",
              "      <td>-0.000436</td>\n",
              "      <td>0.008043</td>\n",
              "      <td>0.013702</td>\n",
              "      <td>0.007681</td>\n",
              "    </tr>\n",
              "    <tr>\n",
              "      <th>Experience</th>\n",
              "      <td>0.994215</td>\n",
              "      <td>1.000000</td>\n",
              "      <td>-0.046574</td>\n",
              "      <td>-0.052563</td>\n",
              "      <td>-0.050077</td>\n",
              "      <td>0.013152</td>\n",
              "      <td>-0.010582</td>\n",
              "      <td>-0.007413</td>\n",
              "      <td>-0.001232</td>\n",
              "      <td>0.010353</td>\n",
              "      <td>0.013898</td>\n",
              "      <td>0.008967</td>\n",
              "    </tr>\n",
              "    <tr>\n",
              "      <th>Income</th>\n",
              "      <td>-0.055269</td>\n",
              "      <td>-0.046574</td>\n",
              "      <td>1.000000</td>\n",
              "      <td>-0.157501</td>\n",
              "      <td>0.645984</td>\n",
              "      <td>-0.187524</td>\n",
              "      <td>0.206806</td>\n",
              "      <td>0.502462</td>\n",
              "      <td>-0.002616</td>\n",
              "      <td>0.169738</td>\n",
              "      <td>0.014206</td>\n",
              "      <td>-0.002385</td>\n",
              "    </tr>\n",
              "    <tr>\n",
              "      <th>Family</th>\n",
              "      <td>-0.046418</td>\n",
              "      <td>-0.052563</td>\n",
              "      <td>-0.157501</td>\n",
              "      <td>1.000000</td>\n",
              "      <td>-0.109275</td>\n",
              "      <td>0.064929</td>\n",
              "      <td>-0.020445</td>\n",
              "      <td>0.061367</td>\n",
              "      <td>0.019994</td>\n",
              "      <td>0.014110</td>\n",
              "      <td>0.010354</td>\n",
              "      <td>0.011588</td>\n",
              "    </tr>\n",
              "    <tr>\n",
              "      <th>CCAvg</th>\n",
              "      <td>-0.052012</td>\n",
              "      <td>-0.050077</td>\n",
              "      <td>0.645984</td>\n",
              "      <td>-0.109275</td>\n",
              "      <td>1.000000</td>\n",
              "      <td>-0.136124</td>\n",
              "      <td>0.109905</td>\n",
              "      <td>0.366889</td>\n",
              "      <td>0.015086</td>\n",
              "      <td>0.136534</td>\n",
              "      <td>-0.003611</td>\n",
              "      <td>-0.006689</td>\n",
              "    </tr>\n",
              "    <tr>\n",
              "      <th>Education</th>\n",
              "      <td>0.041334</td>\n",
              "      <td>0.013152</td>\n",
              "      <td>-0.187524</td>\n",
              "      <td>0.064929</td>\n",
              "      <td>-0.136124</td>\n",
              "      <td>1.000000</td>\n",
              "      <td>-0.033327</td>\n",
              "      <td>0.136722</td>\n",
              "      <td>-0.010812</td>\n",
              "      <td>0.013934</td>\n",
              "      <td>-0.015004</td>\n",
              "      <td>-0.011014</td>\n",
              "    </tr>\n",
              "    <tr>\n",
              "      <th>Mortgage</th>\n",
              "      <td>-0.012539</td>\n",
              "      <td>-0.010582</td>\n",
              "      <td>0.206806</td>\n",
              "      <td>-0.020445</td>\n",
              "      <td>0.109905</td>\n",
              "      <td>-0.033327</td>\n",
              "      <td>1.000000</td>\n",
              "      <td>0.142095</td>\n",
              "      <td>-0.005411</td>\n",
              "      <td>0.089311</td>\n",
              "      <td>-0.005995</td>\n",
              "      <td>-0.007231</td>\n",
              "    </tr>\n",
              "    <tr>\n",
              "      <th>Personal Loan</th>\n",
              "      <td>-0.007726</td>\n",
              "      <td>-0.007413</td>\n",
              "      <td>0.502462</td>\n",
              "      <td>0.061367</td>\n",
              "      <td>0.366889</td>\n",
              "      <td>0.136722</td>\n",
              "      <td>0.142095</td>\n",
              "      <td>1.000000</td>\n",
              "      <td>0.021954</td>\n",
              "      <td>0.316355</td>\n",
              "      <td>0.006278</td>\n",
              "      <td>0.002802</td>\n",
              "    </tr>\n",
              "    <tr>\n",
              "      <th>Securities Account</th>\n",
              "      <td>-0.000436</td>\n",
              "      <td>-0.001232</td>\n",
              "      <td>-0.002616</td>\n",
              "      <td>0.019994</td>\n",
              "      <td>0.015086</td>\n",
              "      <td>-0.010812</td>\n",
              "      <td>-0.005411</td>\n",
              "      <td>0.021954</td>\n",
              "      <td>1.000000</td>\n",
              "      <td>0.317034</td>\n",
              "      <td>0.012627</td>\n",
              "      <td>-0.015028</td>\n",
              "    </tr>\n",
              "    <tr>\n",
              "      <th>CD Account</th>\n",
              "      <td>0.008043</td>\n",
              "      <td>0.010353</td>\n",
              "      <td>0.169738</td>\n",
              "      <td>0.014110</td>\n",
              "      <td>0.136534</td>\n",
              "      <td>0.013934</td>\n",
              "      <td>0.089311</td>\n",
              "      <td>0.316355</td>\n",
              "      <td>0.317034</td>\n",
              "      <td>1.000000</td>\n",
              "      <td>0.175880</td>\n",
              "      <td>0.278644</td>\n",
              "    </tr>\n",
              "    <tr>\n",
              "      <th>Online</th>\n",
              "      <td>0.013702</td>\n",
              "      <td>0.013898</td>\n",
              "      <td>0.014206</td>\n",
              "      <td>0.010354</td>\n",
              "      <td>-0.003611</td>\n",
              "      <td>-0.015004</td>\n",
              "      <td>-0.005995</td>\n",
              "      <td>0.006278</td>\n",
              "      <td>0.012627</td>\n",
              "      <td>0.175880</td>\n",
              "      <td>1.000000</td>\n",
              "      <td>0.004210</td>\n",
              "    </tr>\n",
              "    <tr>\n",
              "      <th>CreditCard</th>\n",
              "      <td>0.007681</td>\n",
              "      <td>0.008967</td>\n",
              "      <td>-0.002385</td>\n",
              "      <td>0.011588</td>\n",
              "      <td>-0.006689</td>\n",
              "      <td>-0.011014</td>\n",
              "      <td>-0.007231</td>\n",
              "      <td>0.002802</td>\n",
              "      <td>-0.015028</td>\n",
              "      <td>0.278644</td>\n",
              "      <td>0.004210</td>\n",
              "      <td>1.000000</td>\n",
              "    </tr>\n",
              "  </tbody>\n",
              "</table>\n",
              "</div>\n",
              "      <button class=\"colab-df-convert\" onclick=\"convertToInteractive('df-401422ef-ee40-40ae-ae28-b85512ff8007')\"\n",
              "              title=\"Convert this dataframe to an interactive table.\"\n",
              "              style=\"display:none;\">\n",
              "        \n",
              "  <svg xmlns=\"http://www.w3.org/2000/svg\" height=\"24px\"viewBox=\"0 0 24 24\"\n",
              "       width=\"24px\">\n",
              "    <path d=\"M0 0h24v24H0V0z\" fill=\"none\"/>\n",
              "    <path d=\"M18.56 5.44l.94 2.06.94-2.06 2.06-.94-2.06-.94-.94-2.06-.94 2.06-2.06.94zm-11 1L8.5 8.5l.94-2.06 2.06-.94-2.06-.94L8.5 2.5l-.94 2.06-2.06.94zm10 10l.94 2.06.94-2.06 2.06-.94-2.06-.94-.94-2.06-.94 2.06-2.06.94z\"/><path d=\"M17.41 7.96l-1.37-1.37c-.4-.4-.92-.59-1.43-.59-.52 0-1.04.2-1.43.59L10.3 9.45l-7.72 7.72c-.78.78-.78 2.05 0 2.83L4 21.41c.39.39.9.59 1.41.59.51 0 1.02-.2 1.41-.59l7.78-7.78 2.81-2.81c.8-.78.8-2.07 0-2.86zM5.41 20L4 18.59l7.72-7.72 1.47 1.35L5.41 20z\"/>\n",
              "  </svg>\n",
              "      </button>\n",
              "      \n",
              "  <style>\n",
              "    .colab-df-container {\n",
              "      display:flex;\n",
              "      flex-wrap:wrap;\n",
              "      gap: 12px;\n",
              "    }\n",
              "\n",
              "    .colab-df-convert {\n",
              "      background-color: #E8F0FE;\n",
              "      border: none;\n",
              "      border-radius: 50%;\n",
              "      cursor: pointer;\n",
              "      display: none;\n",
              "      fill: #1967D2;\n",
              "      height: 32px;\n",
              "      padding: 0 0 0 0;\n",
              "      width: 32px;\n",
              "    }\n",
              "\n",
              "    .colab-df-convert:hover {\n",
              "      background-color: #E2EBFA;\n",
              "      box-shadow: 0px 1px 2px rgba(60, 64, 67, 0.3), 0px 1px 3px 1px rgba(60, 64, 67, 0.15);\n",
              "      fill: #174EA6;\n",
              "    }\n",
              "\n",
              "    [theme=dark] .colab-df-convert {\n",
              "      background-color: #3B4455;\n",
              "      fill: #D2E3FC;\n",
              "    }\n",
              "\n",
              "    [theme=dark] .colab-df-convert:hover {\n",
              "      background-color: #434B5C;\n",
              "      box-shadow: 0px 1px 3px 1px rgba(0, 0, 0, 0.15);\n",
              "      filter: drop-shadow(0px 1px 2px rgba(0, 0, 0, 0.3));\n",
              "      fill: #FFFFFF;\n",
              "    }\n",
              "  </style>\n",
              "\n",
              "      <script>\n",
              "        const buttonEl =\n",
              "          document.querySelector('#df-401422ef-ee40-40ae-ae28-b85512ff8007 button.colab-df-convert');\n",
              "        buttonEl.style.display =\n",
              "          google.colab.kernel.accessAllowed ? 'block' : 'none';\n",
              "\n",
              "        async function convertToInteractive(key) {\n",
              "          const element = document.querySelector('#df-401422ef-ee40-40ae-ae28-b85512ff8007');\n",
              "          const dataTable =\n",
              "            await google.colab.kernel.invokeFunction('convertToInteractive',\n",
              "                                                     [key], {});\n",
              "          if (!dataTable) return;\n",
              "\n",
              "          const docLinkHtml = 'Like what you see? Visit the ' +\n",
              "            '<a target=\"_blank\" href=https://colab.research.google.com/notebooks/data_table.ipynb>data table notebook</a>'\n",
              "            + ' to learn more about interactive tables.';\n",
              "          element.innerHTML = '';\n",
              "          dataTable['output_type'] = 'display_data';\n",
              "          await google.colab.output.renderOutput(dataTable, element);\n",
              "          const docLink = document.createElement('div');\n",
              "          docLink.innerHTML = docLinkHtml;\n",
              "          element.appendChild(docLink);\n",
              "        }\n",
              "      </script>\n",
              "    </div>\n",
              "  </div>\n",
              "  "
            ]
          },
          "metadata": {},
          "execution_count": 102
        }
      ],
      "source": [
        "data.corr()"
      ]
    },
    {
      "cell_type": "code",
      "execution_count": null,
      "metadata": {
        "colab": {
          "base_uri": "https://localhost:8080/"
        },
        "id": "m7xe2CZY6kdX",
        "outputId": "30973924-6f65-4535-f967-db8fea21d85d"
      },
      "outputs": [
        {
          "output_type": "execute_result",
          "data": {
            "text/plain": [
              "Age                    45\n",
              "Experience             47\n",
              "Income                162\n",
              "Family                  4\n",
              "CCAvg                 108\n",
              "Education               3\n",
              "Mortgage              347\n",
              "Personal Loan           2\n",
              "Securities Account      2\n",
              "CD Account              2\n",
              "Online                  2\n",
              "CreditCard              2\n",
              "dtype: int64"
            ]
          },
          "metadata": {},
          "execution_count": 103
        }
      ],
      "source": [
        "data.nunique()"
      ]
    },
    {
      "cell_type": "code",
      "execution_count": null,
      "metadata": {
        "colab": {
          "base_uri": "https://localhost:8080/"
        },
        "id": "0wwkycSN6pu0",
        "outputId": "187f1a83-163f-4d8d-808b-1bfef71d0e77"
      },
      "outputs": [
        {
          "output_type": "execute_result",
          "data": {
            "text/plain": [
              "Personal Loan\n",
              "0                0.904\n",
              "1                0.096\n",
              "dtype: float64"
            ]
          },
          "metadata": {},
          "execution_count": 104
        }
      ],
      "source": [
        "data.value_counts(['Personal Loan'], normalize=True)"
      ]
    },
    {
      "cell_type": "code",
      "execution_count": null,
      "metadata": {
        "colab": {
          "base_uri": "https://localhost:8080/"
        },
        "id": "DjsG6zBQ6xag",
        "outputId": "15802396-d5b7-46a5-d851-b68f24967653"
      },
      "outputs": [
        {
          "output_type": "execute_result",
          "data": {
            "text/plain": [
              "Personal Loan\n",
              "0                4520\n",
              "1                 480\n",
              "dtype: int64"
            ]
          },
          "metadata": {},
          "execution_count": 105
        }
      ],
      "source": [
        "data.value_counts(['Personal Loan'])"
      ]
    },
    {
      "cell_type": "code",
      "execution_count": null,
      "metadata": {
        "colab": {
          "base_uri": "https://localhost:8080/",
          "height": 475
        },
        "id": "bK6hVvNp7A8q",
        "outputId": "1843cbad-822d-47ea-a428-ad3864694267"
      },
      "outputs": [
        {
          "output_type": "execute_result",
          "data": {
            "text/plain": [
              "<Axes: xlabel='Personal Loan', ylabel='count'>"
            ]
          },
          "metadata": {},
          "execution_count": 106
        },
        {
          "output_type": "display_data",
          "data": {
            "text/plain": [
              "<Figure size 640x480 with 1 Axes>"
            ],
            "image/png": "[encoded data removed]"
          },
          "metadata": {}
        }
      ],
      "source": [
        "sns.countplot(x=\"Personal Loan\", data=data)"
      ]
    },
    {
      "cell_type": "markdown",
      "metadata": {
        "id": "C74x-evU7-iI"
      },
      "source": [
        "Data is highly imbalanced.\n",
        "Majority of data belongs to class 0.\n",
        "Out of 5000 people, 4520 are not opting for personal loan and 480 are opting for it."
      ]
    },
    {
      "cell_type": "code",
      "execution_count": null,
      "metadata": {
        "colab": {
          "base_uri": "https://localhost:8080/"
        },
        "id": "Ar5YBVQG8_2c",
        "outputId": "7d696595-5ff7-4a0d-ebd8-d95df9fc9e79"
      },
      "outputs": [
        {
          "output_type": "execute_result",
          "data": {
            "text/plain": [
              "Index(['Age', 'Experience', 'Income', 'Family', 'CCAvg', 'Education',\n",
              "       'Mortgage', 'Personal Loan', 'Securities Account', 'CD Account',\n",
              "       'Online', 'CreditCard'],\n",
              "      dtype='object')"
            ]
          },
          "metadata": {},
          "execution_count": 107
        }
      ],
      "source": [
        "data.columns"
      ]
    },
    {
      "cell_type": "markdown",
      "metadata": {
        "id": "V4Hunm1l8zWy"
      },
      "source": [
        "#### Filtering categorical and numeric columns\n",
        "\n"
      ]
    },
    {
      "cell_type": "code",
      "execution_count": null,
      "metadata": {
        "id": "FCgL1ISB7sq6"
      },
      "outputs": [],
      "source": [
        "cat_attr= ['Family','Education','Securities Account', 'CD Account','Online', 'CreditCard']\n",
        "data[cat_attr]=data[cat_attr].astype('category')"
      ]
    },
    {
      "cell_type": "code",
      "execution_count": null,
      "metadata": {
        "colab": {
          "base_uri": "https://localhost:8080/"
        },
        "id": "IW198Gqi9cr1",
        "outputId": "4a4bd936-96dd-4e76-dfa9-0d58d3359f96"
      },
      "outputs": [
        {
          "output_type": "execute_result",
          "data": {
            "text/plain": [
              "['Family',\n",
              " 'Education',\n",
              " 'Securities Account',\n",
              " 'CD Account',\n",
              " 'Online',\n",
              " 'CreditCard']"
            ]
          },
          "metadata": {},
          "execution_count": 109
        }
      ],
      "source": [
        "cat_attr"
      ]
    },
    {
      "cell_type": "code",
      "execution_count": null,
      "metadata": {
        "id": "wDxuQF7l9h4J"
      },
      "outputs": [],
      "source": [
        "num_attr=['Age', 'Experience', 'Income','CCAvg', 'Mortgage']"
      ]
    },
    {
      "cell_type": "code",
      "execution_count": null,
      "metadata": {
        "colab": {
          "base_uri": "https://localhost:8080/"
        },
        "id": "68afsUch97AT",
        "outputId": "c7b7263d-b9fa-4fda-a1c9-f1adbbe627dd"
      },
      "outputs": [
        {
          "output_type": "execute_result",
          "data": {
            "text/plain": [
              "['Age', 'Experience', 'Income', 'CCAvg', 'Mortgage']"
            ]
          },
          "metadata": {},
          "execution_count": 111
        }
      ],
      "source": [
        "num_attr"
      ]
    },
    {
      "cell_type": "code",
      "execution_count": null,
      "metadata": {
        "colab": {
          "base_uri": "https://localhost:8080/"
        },
        "id": "IjBERFxP9d40",
        "outputId": "4750a08e-519e-4a3e-9df8-7fbf002c47bc"
      },
      "outputs": [
        {
          "output_type": "execute_result",
          "data": {
            "text/plain": [
              "Age                      int64\n",
              "Experience               int64\n",
              "Income                   int64\n",
              "Family                category\n",
              "CCAvg                  float64\n",
              "Education             category\n",
              "Mortgage                 int64\n",
              "Personal Loan            int64\n",
              "Securities Account    category\n",
              "CD Account            category\n",
              "Online                category\n",
              "CreditCard            category\n",
              "dtype: object"
            ]
          },
          "metadata": {},
          "execution_count": 112
        }
      ],
      "source": [
        "data.dtypes"
      ]
    },
    {
      "cell_type": "code",
      "execution_count": null,
      "metadata": {
        "colab": {
          "base_uri": "https://localhost:8080/"
        },
        "id": "8iqjN8OL9eta",
        "outputId": "079cdf0b-92b8-4944-ba7a-6d13391924fb"
      },
      "outputs": [
        {
          "output_type": "execute_result",
          "data": {
            "text/plain": [
              "Online\n",
              "1         2984\n",
              "0         2016\n",
              "dtype: int64"
            ]
          },
          "metadata": {},
          "execution_count": 113
        }
      ],
      "source": [
        "data.value_counts(['Online'])"
      ]
    },
    {
      "cell_type": "code",
      "execution_count": null,
      "metadata": {
        "colab": {
          "base_uri": "https://localhost:8080/"
        },
        "id": "Mt1oF7Xt-Gub",
        "outputId": "3e64e858-f4b5-48f3-8f8c-c3107fd8aa14"
      },
      "outputs": [
        {
          "output_type": "execute_result",
          "data": {
            "text/plain": [
              "Online\n",
              "1         0.5968\n",
              "0         0.4032\n",
              "dtype: float64"
            ]
          },
          "metadata": {},
          "execution_count": 114
        }
      ],
      "source": [
        "data.value_counts(['Online'], normalize=True)"
      ]
    },
    {
      "cell_type": "markdown",
      "metadata": {
        "id": "fNZ52-TV_DY7"
      },
      "source": [
        "###EDA"
      ]
    },
    {
      "cell_type": "code",
      "execution_count": null,
      "metadata": {
        "colab": {
          "base_uri": "https://localhost:8080/",
          "height": 458
        },
        "id": "U2MqnpAz-WxZ",
        "outputId": "fed6f807-600c-4bba-bcb8-160d8f64bef8"
      },
      "outputs": [
        {
          "output_type": "display_data",
          "data": {
            "text/plain": [
              "<Figure size 640x480 with 1 Axes>"
            ],
            "image/png": "[encoded data removed]"
          },
          "metadata": {}
        }
      ],
      "source": [
        "sns.countplot(x=\"Online\", data=data)\n",
        "plt.show()"
      ]
    },
    {
      "cell_type": "markdown",
      "metadata": {
        "id": "X-XkLINXORPU"
      },
      "source": [
        "##### Outlier detection"
      ]
    },
    {
      "cell_type": "code",
      "execution_count": null,
      "metadata": {
        "colab": {
          "base_uri": "https://localhost:8080/"
        },
        "id": "GYJ-oPYiN4M5",
        "outputId": "dfe773e6-d771-4a0e-ea15-85ddbf158d70"
      },
      "outputs": [
        {
          "output_type": "execute_result",
          "data": {
            "text/plain": [
              "Age           False\n",
              "Experience    False\n",
              "Income         True\n",
              "CCAvg          True\n",
              "Mortgage       True\n",
              "dtype: bool"
            ]
          },
          "metadata": {},
          "execution_count": 116
        }
      ],
      "source": [
        "data[num].describe()\n",
        "Q1=data[num].quantile(0.25)\n",
        "Q3=data[num].quantile(0.75)\n",
        "IQR=Q3-Q1\n",
        "IQR\n",
        "((data[num]<(Q1-1.5*IQR)) | (data[num]>(Q3+1.5*IQR))).any()"
      ]
    },
    {
      "cell_type": "markdown",
      "metadata": {
        "id": "9lDcRVgVPRU0"
      },
      "source": [
        "Income, CCAvg and Mortgage have outliers\n"
      ]
    },
    {
      "cell_type": "code",
      "execution_count": null,
      "metadata": {
        "id": "3kiuPX6TO5CE"
      },
      "outputs": [],
      "source": [
        "q1=data['Income'].quantile(0.25)\n",
        "q3=data['Income'].quantile(0.70)\n",
        "iqr = q3-q1\n",
        "filter1 = (data['Income']>=q1 - 1.5*iqr) & (data['Income']<=q3+1.5*iqr)\n",
        "data=data.loc[filter1]\n",
        "\n",
        "q1=data['CCAvg'].quantile(0.25)\n",
        "q3=data['CCAvg'].quantile(0.70)\n",
        "iqr = q3-q1\n",
        "filter1 = (data['CCAvg']>=q1 - 1.5*iqr) & (data['CCAvg']<=q3+1.5*iqr)\n",
        "data=data.loc[filter1]\n",
        "\n",
        "q1=data['Mortgage'].quantile(0.25)\n",
        "q3=data['Mortgage'].quantile(0.70)\n",
        "iqr = q3-q1\n",
        "filter1 = (data['Mortgage']>=q1 - 1.5*iqr) & (data['Mortgage']<=q3+1.5*iqr)\n",
        "data=data.loc[filter1]"
      ]
    },
    {
      "cell_type": "code",
      "execution_count": null,
      "metadata": {
        "colab": {
          "base_uri": "https://localhost:8080/",
          "height": 457
        },
        "id": "dFZ47MXXRLBQ",
        "outputId": "21a9f0c7-b7a7-4854-b24c-6a7ccd58bef2"
      },
      "outputs": [
        {
          "output_type": "execute_result",
          "data": {
            "text/plain": [
              "<Axes: >"
            ]
          },
          "metadata": {},
          "execution_count": 118
        },
        {
          "output_type": "display_data",
          "data": {
            "text/plain": [
              "<Figure size 640x480 with 2 Axes>"
            ],
            "image/png": "[encoded data removed]"
          },
          "metadata": {}
        }
      ],
      "source": [
        "sns.heatmap(data[num].corr(),annot=True)"
      ]
    },
    {
      "cell_type": "markdown",
      "metadata": {
        "id": "BVfuI3nKARh9"
      },
      "source": [
        "\n",
        "As we can see Age and experience are highly correlated!"
      ]
    },
    {
      "cell_type": "markdown",
      "metadata": {
        "id": "hfnng1jvIo8s"
      },
      "source": [
        "### Creating Dummies"
      ]
    },
    {
      "cell_type": "code",
      "execution_count": null,
      "metadata": {
        "colab": {
          "base_uri": "https://localhost:8080/",
          "height": 317
        },
        "id": "B8lIROajFiGF",
        "outputId": "aac176b2-ab12-4381-9f3d-e432382a90a3"
      },
      "outputs": [
        {
          "output_type": "execute_result",
          "data": {
            "text/plain": [
              "   Age  Experience  Income  CCAvg  Mortgage  Personal Loan  Family_1  \\\n",
              "0   25           1      49    1.6         0              0         0   \n",
              "1   45          19      34    1.5         0              0         0   \n",
              "2   39          15      11    1.0         0              0         1   \n",
              "3   35           9     100    2.7         0              0         1   \n",
              "4   35           8      45    1.0         0              0         0   \n",
              "\n",
              "   Family_2  Family_3  Family_4  ...  Education_2  Education_3  \\\n",
              "0         0         0         1  ...            0            0   \n",
              "1         0         1         0  ...            0            0   \n",
              "2         0         0         0  ...            0            0   \n",
              "3         0         0         0  ...            1            0   \n",
              "4         0         0         1  ...            1            0   \n",
              "\n",
              "   Securities Account_0  Securities Account_1  CD Account_0  CD Account_1  \\\n",
              "0                     0                     1             1             0   \n",
              "1                     0                     1             1             0   \n",
              "2                     1                     0             1             0   \n",
              "3                     1                     0             1             0   \n",
              "4                     1                     0             1             0   \n",
              "\n",
              "   Online_0  Online_1  CreditCard_0  CreditCard_1  \n",
              "0         1         0             1             0  \n",
              "1         1         0             1             0  \n",
              "2         1         0             1             0  \n",
              "3         1         0             1             0  \n",
              "4         1         0             0             1  \n",
              "\n",
              "[5 rows x 21 columns]"
            ],
            "text/html": [
              "\n",
              "  <div id=\"df-b82184d4-c721-4d25-a239-6c7edcfcc8ea\">\n",
              "    <div class=\"colab-df-container\">\n",
              "      <div>\n",
              "<style scoped>\n",
              "    .dataframe tbody tr th:only-of-type {\n",
              "        vertical-align: middle;\n",
              "    }\n",
              "\n",
              "    .dataframe tbody tr th {\n",
              "        vertical-align: top;\n",
              "    }\n",
              "\n",
              "    .dataframe thead th {\n",
              "        text-align: right;\n",
              "    }\n",
              "</style>\n",
              "<table border=\"1\" class=\"dataframe\">\n",
              "  <thead>\n",
              "    <tr style=\"text-align: right;\">\n",
              "      <th></th>\n",
              "      <th>Age</th>\n",
              "      <th>Experience</th>\n",
              "      <th>Income</th>\n",
              "      <th>CCAvg</th>\n",
              "      <th>Mortgage</th>\n",
              "      <th>Personal Loan</th>\n",
              "      <th>Family_1</th>\n",
              "      <th>Family_2</th>\n",
              "      <th>Family_3</th>\n",
              "      <th>Family_4</th>\n",
              "      <th>...</th>\n",
              "      <th>Education_2</th>\n",
              "      <th>Education_3</th>\n",
              "      <th>Securities Account_0</th>\n",
              "      <th>Securities Account_1</th>\n",
              "      <th>CD Account_0</th>\n",
              "      <th>CD Account_1</th>\n",
              "      <th>Online_0</th>\n",
              "      <th>Online_1</th>\n",
              "      <th>CreditCard_0</th>\n",
              "      <th>CreditCard_1</th>\n",
              "    </tr>\n",
              "  </thead>\n",
              "  <tbody>\n",
              "    <tr>\n",
              "      <th>0</th>\n",
              "      <td>25</td>\n",
              "      <td>1</td>\n",
              "      <td>49</td>\n",
              "      <td>1.6</td>\n",
              "      <td>0</td>\n",
              "      <td>0</td>\n",
              "      <td>0</td>\n",
              "      <td>0</td>\n",
              "      <td>0</td>\n",
              "      <td>1</td>\n",
              "      <td>...</td>\n",
              "      <td>0</td>\n",
              "      <td>0</td>\n",
              "      <td>0</td>\n",
              "      <td>1</td>\n",
              "      <td>1</td>\n",
              "      <td>0</td>\n",
              "      <td>1</td>\n",
              "      <td>0</td>\n",
              "      <td>1</td>\n",
              "      <td>0</td>\n",
              "    </tr>\n",
              "    <tr>\n",
              "      <th>1</th>\n",
              "      <td>45</td>\n",
              "      <td>19</td>\n",
              "      <td>34</td>\n",
              "      <td>1.5</td>\n",
              "      <td>0</td>\n",
              "      <td>0</td>\n",
              "      <td>0</td>\n",
              "      <td>0</td>\n",
              "      <td>1</td>\n",
              "      <td>0</td>\n",
              "      <td>...</td>\n",
              "      <td>0</td>\n",
              "      <td>0</td>\n",
              "      <td>0</td>\n",
              "      <td>1</td>\n",
              "      <td>1</td>\n",
              "      <td>0</td>\n",
              "      <td>1</td>\n",
              "      <td>0</td>\n",
              "      <td>1</td>\n",
              "      <td>0</td>\n",
              "    </tr>\n",
              "    <tr>\n",
              "      <th>2</th>\n",
              "      <td>39</td>\n",
              "      <td>15</td>\n",
              "      <td>11</td>\n",
              "      <td>1.0</td>\n",
              "      <td>0</td>\n",
              "      <td>0</td>\n",
              "      <td>1</td>\n",
              "      <td>0</td>\n",
              "      <td>0</td>\n",
              "      <td>0</td>\n",
              "      <td>...</td>\n",
              "      <td>0</td>\n",
              "      <td>0</td>\n",
              "      <td>1</td>\n",
              "      <td>0</td>\n",
              "      <td>1</td>\n",
              "      <td>0</td>\n",
              "      <td>1</td>\n",
              "      <td>0</td>\n",
              "      <td>1</td>\n",
              "      <td>0</td>\n",
              "    </tr>\n",
              "    <tr>\n",
              "      <th>3</th>\n",
              "      <td>35</td>\n",
              "      <td>9</td>\n",
              "      <td>100</td>\n",
              "      <td>2.7</td>\n",
              "      <td>0</td>\n",
              "      <td>0</td>\n",
              "      <td>1</td>\n",
              "      <td>0</td>\n",
              "      <td>0</td>\n",
              "      <td>0</td>\n",
              "      <td>...</td>\n",
              "      <td>1</td>\n",
              "      <td>0</td>\n",
              "      <td>1</td>\n",
              "      <td>0</td>\n",
              "      <td>1</td>\n",
              "      <td>0</td>\n",
              "      <td>1</td>\n",
              "      <td>0</td>\n",
              "      <td>1</td>\n",
              "      <td>0</td>\n",
              "    </tr>\n",
              "    <tr>\n",
              "      <th>4</th>\n",
              "      <td>35</td>\n",
              "      <td>8</td>\n",
              "      <td>45</td>\n",
              "      <td>1.0</td>\n",
              "      <td>0</td>\n",
              "      <td>0</td>\n",
              "      <td>0</td>\n",
              "      <td>0</td>\n",
              "      <td>0</td>\n",
              "      <td>1</td>\n",
              "      <td>...</td>\n",
              "      <td>1</td>\n",
              "      <td>0</td>\n",
              "      <td>1</td>\n",
              "      <td>0</td>\n",
              "      <td>1</td>\n",
              "      <td>0</td>\n",
              "      <td>1</td>\n",
              "      <td>0</td>\n",
              "      <td>0</td>\n",
              "      <td>1</td>\n",
              "    </tr>\n",
              "  </tbody>\n",
              "</table>\n",
              "<p>5 rows × 21 columns</p>\n",
              "</div>\n",
              "      <button class=\"colab-df-convert\" onclick=\"convertToInteractive('df-b82184d4-c721-4d25-a239-6c7edcfcc8ea')\"\n",
              "              title=\"Convert this dataframe to an interactive table.\"\n",
              "              style=\"display:none;\">\n",
              "        \n",
              "  <svg xmlns=\"http://www.w3.org/2000/svg\" height=\"24px\"viewBox=\"0 0 24 24\"\n",
              "       width=\"24px\">\n",
              "    <path d=\"M0 0h24v24H0V0z\" fill=\"none\"/>\n",
              "    <path d=\"M18.56 5.44l.94 2.06.94-2.06 2.06-.94-2.06-.94-.94-2.06-.94 2.06-2.06.94zm-11 1L8.5 8.5l.94-2.06 2.06-.94-2.06-.94L8.5 2.5l-.94 2.06-2.06.94zm10 10l.94 2.06.94-2.06 2.06-.94-2.06-.94-.94-2.06-.94 2.06-2.06.94z\"/><path d=\"M17.41 7.96l-1.37-1.37c-.4-.4-.92-.59-1.43-.59-.52 0-1.04.2-1.43.59L10.3 9.45l-7.72 7.72c-.78.78-.78 2.05 0 2.83L4 21.41c.39.39.9.59 1.41.59.51 0 1.02-.2 1.41-.59l7.78-7.78 2.81-2.81c.8-.78.8-2.07 0-2.86zM5.41 20L4 18.59l7.72-7.72 1.47 1.35L5.41 20z\"/>\n",
              "  </svg>\n",
              "      </button>\n",
              "      \n",
              "  <style>\n",
              "    .colab-df-container {\n",
              "      display:flex;\n",
              "      flex-wrap:wrap;\n",
              "      gap: 12px;\n",
              "    }\n",
              "\n",
              "    .colab-df-convert {\n",
              "      background-color: #E8F0FE;\n",
              "      border: none;\n",
              "      border-radius: 50%;\n",
              "      cursor: pointer;\n",
              "      display: none;\n",
              "      fill: #1967D2;\n",
              "      height: 32px;\n",
              "      padding: 0 0 0 0;\n",
              "      width: 32px;\n",
              "    }\n",
              "\n",
              "    .colab-df-convert:hover {\n",
              "      background-color: #E2EBFA;\n",
              "      box-shadow: 0px 1px 2px rgba(60, 64, 67, 0.3), 0px 1px 3px 1px rgba(60, 64, 67, 0.15);\n",
              "      fill: #174EA6;\n",
              "    }\n",
              "\n",
              "    [theme=dark] .colab-df-convert {\n",
              "      background-color: #3B4455;\n",
              "      fill: #D2E3FC;\n",
              "    }\n",
              "\n",
              "    [theme=dark] .colab-df-convert:hover {\n",
              "      background-color: #434B5C;\n",
              "      box-shadow: 0px 1px 3px 1px rgba(0, 0, 0, 0.15);\n",
              "      filter: drop-shadow(0px 1px 2px rgba(0, 0, 0, 0.3));\n",
              "      fill: #FFFFFF;\n",
              "    }\n",
              "  </style>\n",
              "\n",
              "      <script>\n",
              "        const buttonEl =\n",
              "          document.querySelector('#df-b82184d4-c721-4d25-a239-6c7edcfcc8ea button.colab-df-convert');\n",
              "        buttonEl.style.display =\n",
              "          google.colab.kernel.accessAllowed ? 'block' : 'none';\n",
              "\n",
              "        async function convertToInteractive(key) {\n",
              "          const element = document.querySelector('#df-b82184d4-c721-4d25-a239-6c7edcfcc8ea');\n",
              "          const dataTable =\n",
              "            await google.colab.kernel.invokeFunction('convertToInteractive',\n",
              "                                                     [key], {});\n",
              "          if (!dataTable) return;\n",
              "\n",
              "          const docLinkHtml = 'Like what you see? Visit the ' +\n",
              "            '<a target=\"_blank\" href=https://colab.research.google.com/notebooks/data_table.ipynb>data table notebook</a>'\n",
              "            + ' to learn more about interactive tables.';\n",
              "          element.innerHTML = '';\n",
              "          dataTable['output_type'] = 'display_data';\n",
              "          await google.colab.output.renderOutput(dataTable, element);\n",
              "          const docLink = document.createElement('div');\n",
              "          docLink.innerHTML = docLinkHtml;\n",
              "          element.appendChild(docLink);\n",
              "        }\n",
              "      </script>\n",
              "    </div>\n",
              "  </div>\n",
              "  "
            ]
          },
          "metadata": {},
          "execution_count": 119
        }
      ],
      "source": [
        "data=pd.get_dummies(data, columns = cat)\n",
        "data.head()"
      ]
    },
    {
      "cell_type": "markdown",
      "metadata": {
        "id": "_nsranvZItgd"
      },
      "source": [
        "#### Splitting the data\n"
      ]
    },
    {
      "cell_type": "code",
      "execution_count": null,
      "metadata": {
        "colab": {
          "base_uri": "https://localhost:8080/"
        },
        "id": "fqiOwvdjIcDP",
        "outputId": "4b363b6b-5afd-4966-8765-7290ac76498c"
      },
      "outputs": [
        {
          "output_type": "stream",
          "name": "stdout",
          "text": [
            "(3209, 20)\n",
            "(803, 20)\n",
            "(3209,)\n",
            "(803,)\n"
          ]
        }
      ],
      "source": [
        "from sklearn.model_selection import train_test_split\n",
        "X=data.drop(['Personal Loan'],axis=1)\n",
        "y=data['Personal Loan']\n",
        "X_train,X_test,y_train,y_test=train_test_split(X,y,test_size=0.2,random_state=123)\n",
        "print(X_train.shape)\n",
        "print(X_test.shape)\n",
        "print(y_train.shape)\n",
        "print(y_test.shape)"
      ]
    },
    {
      "cell_type": "code",
      "source": [
        "from sklearn.preprocessing import StandardScaler\n",
        "SC= StandardScaler()\n",
        "X_train=SC.fit_transform(X_train)\n",
        "X_test=SC.transform(X_test)"
      ],
      "metadata": {
        "id": "0nMmGLdrRnPL"
      },
      "execution_count": null,
      "outputs": []
    },
    {
      "cell_type": "code",
      "execution_count": null,
      "metadata": {
        "id": "KBk8C092JAWW"
      },
      "outputs": [],
      "source": [
        "from sklearn.linear_model import LogisticRegression\n",
        "from sklearn.neighbors import KNeighborsClassifier\n",
        "from sklearn.ensemble import RandomForestClassifier\n",
        "from sklearn.tree import DecisionTreeClassifier\n",
        "from sklearn.svm import SVC\n",
        "from sklearn import metrics\n",
        "from sklearn.metrics import recall_score, classification_report, confusion_matrix, accuracy_score\n",
        "from sklearn.metrics import precision_recall_curve , auc , f1_score\n"
      ]
    },
    {
      "cell_type": "code",
      "execution_count": null,
      "metadata": {
        "colab": {
          "base_uri": "https://localhost:8080/"
        },
        "id": "T3l2XecWJ65t",
        "outputId": "ed08c63d-9d36-4bd8-be1a-a99814c34194"
      },
      "outputs": [
        {
          "output_type": "stream",
          "name": "stdout",
          "text": [
            "100.0\n",
            "98.13200498132005\n",
            "[[760   0]\n",
            " [ 15  28]]\n",
            "              precision    recall  f1-score   support\n",
            "\n",
            "           0       0.98      1.00      0.99       760\n",
            "           1       1.00      0.65      0.79        43\n",
            "\n",
            "    accuracy                           0.98       803\n",
            "   macro avg       0.99      0.83      0.89       803\n",
            "weighted avg       0.98      0.98      0.98       803\n",
            "\n",
            "              precision    recall  f1-score   support\n",
            "\n",
            "           0       1.00      1.00      1.00      3079\n",
            "           1       1.00      1.00      1.00       130\n",
            "\n",
            "    accuracy                           1.00      3209\n",
            "   macro avg       1.00      1.00      1.00      3209\n",
            "weighted avg       1.00      1.00      1.00      3209\n",
            "\n"
          ]
        }
      ],
      "source": [
        "RF=RandomForestClassifier()\n",
        "RF.fit(X_train, y_train)\n",
        "y_pred = RF.predict(X_test)\n",
        "y_trains=RF.predict(X_train) \n",
        "\n",
        "\n",
        "print(accuracy_score(y_train, y_trains)*100)\n",
        "print(accuracy_score(y_test, y_pred)*100)\n",
        "print(confusion_matrix(y_test, y_pred))\n",
        "print(classification_report(y_test, y_pred))\n",
        "print(classification_report(y_train, y_trains))"
      ]
    },
    {
      "cell_type": "code",
      "execution_count": null,
      "metadata": {
        "colab": {
          "base_uri": "https://localhost:8080/",
          "height": 899
        },
        "id": "-C-Se-2eAZr0",
        "outputId": "1db8a8dd-0ca4-4c43-c668-bbaf3409b698"
      },
      "outputs": [
        {
          "output_type": "display_data",
          "data": {
            "text/plain": [
              "<Figure size 640x480 with 1 Axes>"
            ],
            "image/png": "[encoded data removed]"
          },
          "metadata": {}
        },
        {
          "output_type": "display_data",
          "data": {
            "text/plain": [
              "<Figure size 640x480 with 1 Axes>"
            ],
            "image/png": "[encoded data removed]"
          },
          "metadata": {}
        }
      ],
      "source": [
        "fpr, tpr, _ = metrics.roc_curve(y_test,  y_pred)\n",
        "\n",
        "#create ROC curve\n",
        "plt.plot(fpr,tpr)\n",
        "plt.ylabel('True Positive Rate')\n",
        "plt.xlabel('False Positive Rate')\n",
        "plt.show()\n",
        "auc = metrics.roc_auc_score(y_test, y_pred)\n",
        "#create ROC curve\n",
        "plt.plot(fpr,tpr,label=\"AUC=\"+str(auc))\n",
        "plt.ylabel('True Positive Rate')\n",
        "plt.xlabel('False Positive Rate')\n",
        "plt.legend(loc=4)\n",
        "plt.show()"
      ]
    },
    {
      "cell_type": "markdown",
      "metadata": {
        "id": "l3UtEUpGBs-7"
      },
      "source": [
        "Feature Importances"
      ]
    },
    {
      "cell_type": "code",
      "execution_count": null,
      "metadata": {
        "colab": {
          "base_uri": "https://localhost:8080/"
        },
        "id": "_T70sWn0Blwe",
        "outputId": "d6b54db4-e72f-4821-938f-419b2368547e"
      },
      "outputs": [
        {
          "output_type": "stream",
          "name": "stdout",
          "text": [
            " 1) CCAvg                          0.318002\n",
            " 2) Mortgage                       0.188071\n",
            " 3) Education_1                    0.083232\n",
            " 4) Experience                     0.074561\n",
            " 5) Income                         0.065660\n",
            " 6) Family_4                       0.038552\n",
            " 7) Education_2                    0.038383\n",
            " 8) Education_3                    0.028456\n",
            " 9) Family_3                       0.021553\n",
            "10) Family_2                       0.021069\n",
            "11) CD Account_1                   0.020586\n",
            "12) CD Account_0                   0.018087\n",
            "13) Family_1                       0.015235\n",
            "14) Personal Loan                  0.013902\n",
            "15) CreditCard_1                   0.011624\n",
            "16) CreditCard_0                   0.011323\n",
            "17) Online_0                       0.010772\n",
            "18) Online_1                       0.008972\n",
            "19) Securities Account_0           0.006737\n",
            "20) Securities Account_1           0.005223\n"
          ]
        }
      ],
      "source": [
        "importances = RF.feature_importances_\n",
        "#Sort the feature importance in descending order\n",
        "sorted_indices = np.argsort(importances)[::-1]\n",
        "feat_labels = data.columns[1:]\n",
        "for f in range(X_train.shape[1]):\n",
        "    print(\"%2d) %-*s %f\" % (f + 1, 30,\n",
        "                            feat_labels[sorted_indices[f]],\n",
        "                            importances[sorted_indices[f]]))"
      ]
    },
    {
      "cell_type": "markdown",
      "metadata": {
        "id": "tzAtk2y5Cbie"
      },
      "source": [
        "Logistic Model"
      ]
    },
    {
      "cell_type": "code",
      "execution_count": null,
      "metadata": {
        "colab": {
          "base_uri": "https://localhost:8080/"
        },
        "id": "Dm2owXXSBqUu",
        "outputId": "9d719e2c-e343-4d70-edea-bac1c3694bc5"
      },
      "outputs": [
        {
          "output_type": "stream",
          "name": "stdout",
          "text": [
            "97.84979744468681\n",
            "97.01120797011208\n",
            "[[757   3]\n",
            " [ 21  22]]\n",
            "              precision    recall  f1-score   support\n",
            "\n",
            "           0       0.97      1.00      0.98       760\n",
            "           1       0.88      0.51      0.65        43\n",
            "\n",
            "    accuracy                           0.97       803\n",
            "   macro avg       0.93      0.75      0.82       803\n",
            "weighted avg       0.97      0.97      0.97       803\n",
            "\n",
            "              precision    recall  f1-score   support\n",
            "\n",
            "           0       0.98      1.00      0.99      3079\n",
            "           1       0.87      0.55      0.68       130\n",
            "\n",
            "    accuracy                           0.98      3209\n",
            "   macro avg       0.92      0.78      0.83      3209\n",
            "weighted avg       0.98      0.98      0.98      3209\n",
            "\n"
          ]
        }
      ],
      "source": [
        "logistic_model=LogisticRegression()\n",
        "logistic_model.fit(X_train, y_train)\n",
        "y_pred = logistic_model.predict(X_test)\n",
        "y_trains=logistic_model.predict(X_train) \n",
        "\n",
        "print(accuracy_score(y_train, y_trains)*100)\n",
        "print(accuracy_score(y_test, y_pred)*100)\n",
        "print(confusion_matrix(y_test, y_pred))\n",
        "print(classification_report(y_test, y_pred))\n",
        "print(classification_report(y_train, y_trains))"
      ]
    },
    {
      "cell_type": "code",
      "execution_count": null,
      "metadata": {
        "colab": {
          "base_uri": "https://localhost:8080/",
          "height": 899
        },
        "id": "L9KZzNKSCd7F",
        "outputId": "d5f404de-5ba6-4fc1-edb8-5edf49f19014"
      },
      "outputs": [
        {
          "output_type": "display_data",
          "data": {
            "text/plain": [
              "<Figure size 640x480 with 1 Axes>"
            ],
            "image/png": "[encoded data removed]"
          },
          "metadata": {}
        },
        {
          "output_type": "display_data",
          "data": {
            "text/plain": [
              "<Figure size 640x480 with 1 Axes>"
            ],
            "image/png": "[encoded data removed]"
          },
          "metadata": {}
        }
      ],
      "source": [
        "fpr, tpr, _ = metrics.roc_curve(y_test,  y_pred)\n",
        "\n",
        "#create ROC curve\n",
        "plt.plot(fpr,tpr)\n",
        "plt.ylabel('True Positive Rate')\n",
        "plt.xlabel('False Positive Rate')\n",
        "plt.show()\n",
        "auc = metrics.roc_auc_score(y_test, y_pred)\n",
        "#create ROC curve\n",
        "plt.plot(fpr,tpr,label=\"AUC=\"+str(auc))\n",
        "plt.ylabel('True Positive Rate')\n",
        "plt.xlabel('False Positive Rate')\n",
        "plt.legend(loc=4)\n",
        "plt.show()"
      ]
    },
    {
      "cell_type": "markdown",
      "source": [
        "##Conclusion\n",
        "Out of the two models Random Forest and Logistic Regression, we can conclude that Random Forest performs the best."
      ],
      "metadata": {
        "id": "dO6F8JxUW2zT"
      }
    }
  ],
  "metadata": {
    "colab": {
      "provenance": []
    },
    "kernelspec": {
      "display_name": "Python 3",
      "language": "python",
      "name": "python3"
    },
    "language_info": {
      "codemirror_mode": {
        "name": "ipython",
        "version": 3
      },
      "file_extension": ".py",
      "mimetype": "text/x-python",
      "name": "python",
      "nbconvert_exporter": "python",
      "pygments_lexer": "ipython3",
      "version": "3.7.6"
    }
  },
  "nbformat": 4,
  "nbformat_minor": 0
}